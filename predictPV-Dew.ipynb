{
 "cells": [
  {
   "cell_type": "code",
   "execution_count": 1,
   "metadata": {},
   "outputs": [],
   "source": [
    "import os\n",
    "import pandas as pd\n",
    "import json\n",
    "import datetime"
   ]
  },
  {
   "cell_type": "code",
   "execution_count": 2,
   "metadata": {},
   "outputs": [],
   "source": [
    "def createDayDataframe(filename):\n",
    "    path = \"tongsdata/\"\n",
    "    filedate = filename.split(\".\")[0].split(\"-\")\n",
    "\n",
    "    with open(path + filename, 'r', encoding='utf-8') as fin:\n",
    "        data_json = json.loads(fin.read())\n",
    "\n",
    "    #  Create X DataFrame\n",
    "    todayData = {time: data_json[time]['currently'] for time in data_json}\n",
    "    todayData_DF = pd.DataFrame(todayData).T\n",
    "\n",
    "    #  Create y DataFrame\n",
    "    energyBalanceFilename = \"energyBalance/Energy_Balance_{}_{}_{}.csv\".format(filedate[0], filedate[1], filedate[2]) #change due to json filename\n",
    "    energyBalance = pd.read_csv(path + energyBalanceFilename, delimiter=\";\")\n",
    "\n",
    "    energyBalance_DF = pd.DataFrame(index=energyBalance.iloc[:-1,0].apply(lambda x: x[2:-1]))\n",
    "    energyBalance_DF['PV Power Generation'] = energyBalance['PV power generation / Mean values [W]  '].values[:-1]\n",
    "    energyBalance_DF = energyBalance_DF[energyBalance_DF != ' ']\n",
    "    energyBalance_DF = energyBalance_DF.dropna()\n",
    "    \n",
    "    #  Join X y DataFrame\n",
    "    data = todayData_DF.join(energyBalance_DF)\n",
    "    return data\n",
    "\n",
    "def cleanDataframe(masterDF):\n",
    "    masterData_cleaned = masterDF.reset_index()\n",
    "    masterData_cleaned = masterData_cleaned.rename(columns={'index': 'time_of_day'})\n",
    "    masterData_cleaned = masterData_cleaned[masterData_cleaned['PV Power Generation'].notna()]\n",
    "    masterData_cleaned['month'] = masterData_cleaned['time'].apply(datetime.datetime.fromtimestamp).apply(lambda x: x.month)\n",
    "    masterData_cleaned['cloudCover'] = masterData_cleaned['cloudCover'].fillna(value=masterData_cleaned['cloudCover'].mean())\n",
    "    masterData_cleaned['PV Power Generation'] = masterData_cleaned['PV Power Generation'].apply(lambda x: x.replace(\",\", \"\")).astype('float')\n",
    "    return masterData_cleaned"
   ]
  },
  {
   "cell_type": "code",
   "execution_count": 3,
   "metadata": {},
   "outputs": [],
   "source": [
    "def featureEngineering(masterDF):\n",
    "    masterDF = masterDF.drop(columns=['icon', 'summary', 'time', 'windBearing', 'windGust', 'ozone', 'precipIntensity', 'precipProbability','pressure'])\n",
    "    masterDF = pd.get_dummies(masterDF, columns=['time_of_day', 'precipType', 'uvIndex', 'month']) \n",
    "    return masterDF"
   ]
  },
  {
   "cell_type": "code",
   "execution_count": 4,
   "metadata": {},
   "outputs": [
    {
     "name": "stdout",
     "output_type": "stream",
     "text": [
      "2018-10-01.json (47, 15)\n",
      "2018-10-02.json (47, 14)\n",
      "2018-10-03.json (47, 14)\n",
      "2018-10-04.json (47, 15)\n"
     ]
    },
    {
     "name": "stderr",
     "output_type": "stream",
     "text": [
      "C:\\Users\\User\\Anaconda3\\lib\\site-packages\\ipykernel_launcher.py:11: FutureWarning: Sorting because non-concatenation axis is not aligned. A future version\n",
      "of pandas will change to not sort by default.\n",
      "\n",
      "To accept the future behavior, pass 'sort=False'.\n",
      "\n",
      "To retain the current behavior and silence the warning, pass 'sort=True'.\n",
      "\n",
      "  # This is added back by InteractiveShellApp.init_path()\n"
     ]
    },
    {
     "name": "stdout",
     "output_type": "stream",
     "text": [
      "2018-10-05.json (47, 15)\n",
      "2018-10-06.json (47, 15)\n",
      "2018-10-07.json (47, 15)\n",
      "2018-10-08.json (47, 15)\n",
      "2018-10-09.json (47, 15)\n",
      "2018-10-10.json (47, 15)\n",
      "2018-10-11.json (47, 15)\n",
      "2018-10-12.json (47, 15)\n",
      "2018-10-13.json (47, 14)\n",
      "2018-10-14.json (47, 15)\n",
      "2018-10-15.json (47, 15)\n",
      "2018-10-16.json (47, 15)\n",
      "2018-10-17.json (47, 14)\n",
      "2018-10-18.json (47, 14)\n",
      "2018-10-19.json (47, 15)\n",
      "2018-10-20.json (47, 15)\n",
      "2018-10-21.json (47, 15)\n",
      "2018-10-22.json (47, 15)\n",
      "2018-10-23.json (47, 15)\n",
      "2018-10-24.json (47, 14)\n",
      "2018-10-25.json (47, 15)\n",
      "2018-10-26.json (47, 15)\n",
      "2018-10-27.json (47, 15)\n",
      "2018-10-28.json (47, 15)\n",
      "2018-10-29.json (47, 15)\n",
      "2018-10-30.json (47, 15)\n",
      "2018-10-31.json (47, 15)\n",
      "2018-11-01.json (47, 15)\n",
      "2018-11-02.json (47, 13)\n",
      "2018-11-03.json (47, 15)\n",
      "2018-11-04.json (47, 14)\n",
      "2018-11-05.json (47, 14)\n",
      "2018-11-06.json (47, 15)\n",
      "2018-11-07.json (47, 14)\n",
      "2018-11-08.json (47, 15)\n",
      "2018-11-09.json (47, 14)\n",
      "2018-11-10.json (47, 15)\n",
      "2018-11-11.json (47, 14)\n",
      "2018-11-12.json (47, 15)\n",
      "2018-11-13.json (47, 14)\n",
      "2018-11-14.json (47, 15)\n",
      "2018-11-15.json (47, 15)\n",
      "2018-11-16.json (47, 15)\n",
      "2018-11-17.json (47, 14)\n",
      "2018-11-18.json (47, 15)\n",
      "2018-11-19.json (47, 15)\n",
      "2018-11-20.json (47, 14)\n",
      "2018-11-21.json (47, 15)\n",
      "2018-11-22.json (47, 15)\n",
      "2018-11-23.json (47, 15)\n",
      "2018-11-24.json (47, 19)\n",
      "2018-11-25.json (47, 19)\n",
      "2018-11-26.json (47, 19)\n",
      "2018-11-27.json (47, 19)\n",
      "2018-11-28.json (47, 19)\n",
      "2018-11-29.json (47, 15)\n",
      "2018-11-30.json (47, 14)\n",
      "2018-12-01.json (47, 15)\n",
      "2018-12-02.json (47, 15)\n",
      "2018-12-03.json (47, 14)\n",
      "2018-12-04.json (47, 14)\n",
      "2018-12-05.json (47, 14)\n",
      "2018-12-06.json (47, 15)\n",
      "2018-12-07.json (47, 14)\n",
      "2018-12-08.json (47, 15)\n",
      "2018-12-09.json (47, 15)\n",
      "2018-12-10.json (47, 14)\n",
      "2018-12-11.json (47, 14)\n",
      "2018-12-12.json (47, 14)\n",
      "2018-12-13.json (47, 14)\n",
      "2018-12-14.json (47, 15)\n",
      "2018-12-15.json (47, 15)\n",
      "2018-12-16.json (47, 15)\n",
      "2018-12-17.json (47, 15)\n",
      "2018-12-18.json (47, 15)\n",
      "2018-12-19.json (47, 15)\n",
      "2018-12-20.json (47, 15)\n",
      "2018-12-21.json (47, 14)\n",
      "2018-12-22.json (47, 15)\n",
      "2018-12-23.json (47, 15)\n",
      "2018-12-24.json (47, 14)\n",
      "2018-12-25.json (47, 14)\n",
      "2018-12-26.json (47, 14)\n",
      "2018-12-27.json (47, 15)\n",
      "2018-12-28.json (47, 15)\n",
      "2018-12-29.json (47, 15)\n",
      "2018-12-30.json (47, 14)\n",
      "2018-12-31.json (47, 15)\n",
      "2019-01-01.json (47, 14)\n",
      "2019-01-02.json (47, 15)\n",
      "2019-01-03.json (47, 14)\n",
      "2019-01-04.json (47, 14)\n",
      "2019-01-05.json (47, 15)\n",
      "2019-01-06.json (47, 15)\n",
      "2019-01-07.json (47, 14)\n",
      "2019-01-08.json (47, 14)\n",
      "2019-01-09.json (47, 14)\n"
     ]
    }
   ],
   "source": [
    "files = os.listdir(\"tongsdata/\")\n",
    "\n",
    "#files.remove(\".DS_Store\")\n",
    "files.remove(\"energyBalance\")\n",
    "\n",
    "masterData = pd.DataFrame()\n",
    "\n",
    "for file in files:\n",
    "    r = createDayDataframe(file).loc['06:30':'18:00']\n",
    "    print(file, r.shape)\n",
    "    masterData = pd.concat([masterData, r], axis=0)\n",
    "    \n",
    "masterData = cleanDataframe(masterData)\n",
    "masterData = featureEngineering(masterData)"
   ]
  },
  {
   "cell_type": "code",
   "execution_count": 5,
   "metadata": {},
   "outputs": [],
   "source": [
    "features = list(masterData.drop(columns=['PV Power Generation']).columns)"
   ]
  },
  {
   "cell_type": "code",
   "execution_count": 6,
   "metadata": {},
   "outputs": [],
   "source": [
    "masterData = masterData.dropna()\n",
    "\n",
    "X = masterData.drop(columns=['PV Power Generation']).astype('float').values\n",
    "y = masterData['PV Power Generation'].astype('float').values\n"
   ]
  },
  {
   "cell_type": "code",
   "execution_count": 7,
   "metadata": {},
   "outputs": [],
   "source": [
    "from sklearn.model_selection import train_test_split\n",
    "\n",
    "X_train, X_test, y_train, y_test = train_test_split(X, y)"
   ]
  },
  {
   "cell_type": "code",
   "execution_count": 8,
   "metadata": {},
   "outputs": [
    {
     "name": "stdout",
     "output_type": "stream",
     "text": [
      "105518.81825667394 217.15825978698908 0.8265820660332565\n"
     ]
    }
   ],
   "source": [
    "import numpy as np\n",
    "import pandas as pd\n",
    "from sklearn.ensemble import RandomForestRegressor\n",
    "from sklearn.model_selection import train_test_split\n",
    "\n",
    "training_features, testing_features, training_target, testing_target = train_test_split(X, y)\n",
    "\n",
    "# Average CV score on the training set was:-91867.4890210794\n",
    "exported_pipeline = RandomForestRegressor(bootstrap=False, max_features=0.3, min_samples_leaf=1, min_samples_split=7, n_estimators=100)\n",
    "\n",
    "exported_pipeline.fit(training_features, training_target)\n",
    "results = exported_pipeline.predict(testing_features)\n",
    "\n",
    "from sklearn.metrics import mean_squared_error, r2_score ,mean_absolute_error\n",
    "print(mean_squared_error(testing_target, results), \n",
    "mean_absolute_error(testing_target, results), \n",
    "r2_score(testing_target, results))\n"
   ]
  },
  {
   "cell_type": "code",
   "execution_count": 9,
   "metadata": {},
   "outputs": [],
   "source": [
    "def pvpredict(predict_date) :\n",
    "    path = \"tongsdata/\"\n",
    "    filename = predict_date.replace(\"_\",'-') + '.json'\n",
    "\n",
    "    with open(path + filename, 'r', encoding='utf-8') as fin:\n",
    "        data_json = json.loads(fin.read())\n",
    "\n",
    "    todayData = {time: data_json[time]['currently'] for time in data_json}\n",
    "    todayData_DF = pd.DataFrame(todayData).T\n",
    "    todayData_DF.index.names=['time_of_day']\n",
    "    todayData_DF = todayData_DF.loc['06:30':'18:00']\n",
    "    todayData_DF = todayData_DF.reset_index()\n",
    "    todayData_DF['month'] = todayData_DF['time'].apply(datetime.datetime.fromtimestamp).apply(lambda x: x.month)\n",
    "    todayData_DF['cloudCover'] = todayData_DF['cloudCover'].fillna(value=todayData_DF['cloudCover'].mean())\n",
    "    dropcolumns=['icon', 'summary', 'time', 'windBearing', 'windGust', 'ozone', 'precipIntensity', 'precipProbability','pressure']\n",
    "    for i in dropcolumns:\n",
    "        if i in todayData_DF.columns:\n",
    "            todayData_DF = todayData_DF.drop(columns=[i])\n",
    "    todayData_DF = pd.get_dummies(todayData_DF, columns=['time_of_day', 'precipType', 'uvIndex', 'month'])\n",
    "    \n",
    "    masterData_for_predict = masterData.drop(columns=['PV Power Generation'])\n",
    "    for i in range(len(masterData_for_predict.columns)) : #drop power balance\n",
    "        if masterData_for_predict.columns[i] not in todayData_DF.columns:\n",
    "            todayData_DF.insert(i, masterData.columns[i+1], 0)\n",
    "    missingvalue = todayData_DF[todayData_DF.isna().any(axis=1)].index\n",
    "    import math\n",
    "    for i in missingvalue:\n",
    "        for j in todayData_DF.columns:\n",
    "            if math.isnan(todayData_DF.loc[i,j]) :\n",
    "                todayData_DF.loc[i,j] = (todayData_DF.loc[i-1,j]+todayData_DF.loc[i+1,j])/2\n",
    "    first_predict = todayData_DF.astype('float').values\n",
    "    \n",
    "    results_first_predict = exported_pipeline.predict(first_predict)\n",
    "    results_first_predict = np.array(results_first_predict).tolist()\n",
    "    for i in range(25):\n",
    "        results_first_predict.insert(0,0.0)\n",
    "    for j in range (24):\n",
    "        results_first_predict.append(0.0)\n",
    "    return results_first_predict"
   ]
  },
  {
   "cell_type": "code",
   "execution_count": 10,
   "metadata": {
    "collapsed": true
   },
   "outputs": [
    {
     "data": {
      "text/plain": [
       "[0.0,\n",
       " 0.0,\n",
       " 0.0,\n",
       " 0.0,\n",
       " 0.0,\n",
       " 0.0,\n",
       " 0.0,\n",
       " 0.0,\n",
       " 0.0,\n",
       " 0.0,\n",
       " 0.0,\n",
       " 0.0,\n",
       " 0.0,\n",
       " 0.0,\n",
       " 0.0,\n",
       " 0.0,\n",
       " 0.0,\n",
       " 0.0,\n",
       " 0.0,\n",
       " 0.0,\n",
       " 0.0,\n",
       " 0.0,\n",
       " 0.0,\n",
       " 0.0,\n",
       " 0.0,\n",
       " 506.2238333333333,\n",
       " 469.73016666666683,\n",
       " 508.63799999999986,\n",
       " 594.4198333333333,\n",
       " 737.8975000000002,\n",
       " 986.4568333333333,\n",
       " 983.5435000000001,\n",
       " 1223.1914999999997,\n",
       " 1475.5328333333323,\n",
       " 1654.0153333333326,\n",
       " 1877.610833333333,\n",
       " 2094.1028333333334,\n",
       " 2149.6083333333336,\n",
       " 2141.559333333333,\n",
       " 1993.9694999999995,\n",
       " 1951.401333333333,\n",
       " 1660.2973333333327,\n",
       " 1659.7158333333327,\n",
       " 1453.4845,\n",
       " 1208.7473333333337,\n",
       " 1191.3310000000004,\n",
       " 1166.2571666666672,\n",
       " 1173.475666666667,\n",
       " 1202.3148333333331,\n",
       " 1211.9375,\n",
       " 1262.9864999999998,\n",
       " 1155.5171666666668,\n",
       " 1243.1585000000005,\n",
       " 1405.8004999999998,\n",
       " 1427.713833333333,\n",
       " 1477.2316666666663,\n",
       " 1410.5258333333331,\n",
       " 1394.4878333333334,\n",
       " 1201.9075000000003,\n",
       " 1267.255,\n",
       " 1269.1641666666667,\n",
       " 1081.9695000000002,\n",
       " 936.3208333333333,\n",
       " 1104.1408333333338,\n",
       " 1008.6811666666669,\n",
       " 800.328,\n",
       " 835.8183333333332,\n",
       " 740.681,\n",
       " 1286.0363333333332,\n",
       " 1196.7075,\n",
       " 1218.5163333333333,\n",
       " 10.651833333333334,\n",
       " 0.0,\n",
       " 0.0,\n",
       " 0.0,\n",
       " 0.0,\n",
       " 0.0,\n",
       " 0.0,\n",
       " 0.0,\n",
       " 0.0,\n",
       " 0.0,\n",
       " 0.0,\n",
       " 0.0,\n",
       " 0.0,\n",
       " 0.0,\n",
       " 0.0,\n",
       " 0.0,\n",
       " 0.0,\n",
       " 0.0,\n",
       " 0.0,\n",
       " 0.0,\n",
       " 0.0,\n",
       " 0.0,\n",
       " 0.0,\n",
       " 0.0,\n",
       " 0.0]"
      ]
     },
     "execution_count": 10,
     "metadata": {},
     "output_type": "execute_result"
    }
   ],
   "source": [
    "pvpredict('2018_11_01')"
   ]
  },
  {
   "cell_type": "code",
   "execution_count": 11,
   "metadata": {},
   "outputs": [
    {
     "ename": "NameError",
     "evalue": "name 'todayData_DF' is not defined",
     "output_type": "error",
     "traceback": [
      "\u001b[1;31m---------------------------------------------------------------------------\u001b[0m",
      "\u001b[1;31mNameError\u001b[0m                                 Traceback (most recent call last)",
      "\u001b[1;32m<ipython-input-11-5fd361569d41>\u001b[0m in \u001b[0;36m<module>\u001b[1;34m\u001b[0m\n\u001b[1;32m----> 1\u001b[1;33m \u001b[0mlen\u001b[0m\u001b[1;33m(\u001b[0m\u001b[0mtodayData_DF\u001b[0m\u001b[1;33m.\u001b[0m\u001b[0mindex\u001b[0m\u001b[1;33m)\u001b[0m\u001b[1;33m\u001b[0m\u001b[1;33m\u001b[0m\u001b[0m\n\u001b[0m",
      "\u001b[1;31mNameError\u001b[0m: name 'todayData_DF' is not defined"
     ]
    }
   ],
   "source": [
    "len(todayData_DF.index)"
   ]
  },
  {
   "cell_type": "code",
   "execution_count": 12,
   "metadata": {},
   "outputs": [],
   "source": [
    "predict_date = '2018_11_01'\n",
    "path = \"tongsdata/\"\n",
    "filename = predict_date.replace(\"_\",'-') + '.json'\n",
    "\n",
    "with open(path + filename, 'r', encoding='utf-8') as fin:\n",
    "    data_json = json.loads(fin.read())\n",
    "\n",
    "todayData = {time: data_json[time]['currently'] for time in data_json}\n",
    "todayData_DF = pd.DataFrame(todayData).T\n",
    "todayData_DF.index.names=['time_of_day']\n",
    "todayData_DF = todayData_DF.loc['06:30':'18:00']\n",
    "todayData_DF = todayData_DF.reset_index()\n",
    "todayData_DF['month'] = todayData_DF['time'].apply(datetime.datetime.fromtimestamp).apply(lambda x: x.month)\n",
    "todayData_DF['cloudCover'] = todayData_DF['cloudCover'].fillna(value=todayData_DF['cloudCover'].mean())\n",
    "dropcolumns=['icon', 'summary', 'time', 'windBearing', 'windGust', 'ozone', 'precipIntensity', 'precipProbability','pressure']\n",
    "for i in dropcolumns:\n",
    "    if i in todayData_DF.columns:\n",
    "        todayData_DF = todayData_DF.drop(columns=[i])\n",
    "todayData_DF = pd.get_dummies(todayData_DF, columns=['time_of_day', 'precipType', 'uvIndex', 'month'])\n",
    "\n",
    "masterData_for_predict = masterData.drop(columns=['PV Power Generation'])\n",
    "for i in range(len(masterData_for_predict.columns)) : #drop power balance\n",
    "    if masterData_for_predict.columns[i] not in todayData_DF.columns:\n",
    "        todayData_DF.insert(i, masterData.columns[i+1], 0)\n",
    "missingvalue = todayData_DF[todayData_DF.isna().any(axis=1)].index\n",
    "import math\n",
    "for i in missingvalue:\n",
    "    for j in todayData_DF.columns:\n",
    "        if math.isnan(todayData_DF.loc[i,j]) :\n",
    "            todayData_DF.loc[i,j] = (todayData_DF.loc[i-1,j]+todayData_DF.loc[i+1,j])/2\n",
    "first_predict = todayData_DF.astype('float').values\n",
    "\n",
    "results_first_predict = exported_pipeline.predict(first_predict)\n",
    "results_first_predict = np.array(results_first_predict).tolist()\n",
    "for i in range(25):\n",
    "    results_first_predict.insert(0,0.0)\n",
    "for j in range (24):\n",
    "    results_first_predict.append(0.0)"
   ]
  },
  {
   "cell_type": "code",
   "execution_count": 14,
   "metadata": {},
   "outputs": [
    {
     "data": {
      "text/plain": [
       "46"
      ]
     },
     "execution_count": 14,
     "metadata": {},
     "output_type": "execute_result"
    }
   ],
   "source": [
    "len(todayData_DF.index)-1"
   ]
  },
  {
   "cell_type": "code",
   "execution_count": 19,
   "metadata": {},
   "outputs": [
    {
     "name": "stdout",
     "output_type": "stream",
     "text": [
      "0\n",
      "1\n",
      "2\n",
      "3\n",
      "4\n",
      "5\n",
      "6\n",
      "7\n",
      "8\n",
      "9\n"
     ]
    }
   ],
   "source": [
    "for i in range(10):\n",
    "    print(i)"
   ]
  },
  {
   "cell_type": "code",
   "execution_count": 18,
   "metadata": {},
   "outputs": [
    {
     "data": {
      "text/plain": [
       "9"
      ]
     },
     "execution_count": 18,
     "metadata": {},
     "output_type": "execute_result"
    }
   ],
   "source": []
  },
  {
   "cell_type": "code",
   "execution_count": null,
   "metadata": {},
   "outputs": [],
   "source": []
  }
 ],
 "metadata": {
  "kernelspec": {
   "display_name": "Python 3",
   "language": "python",
   "name": "python3"
  },
  "language_info": {
   "codemirror_mode": {
    "name": "ipython",
    "version": 3
   },
   "file_extension": ".py",
   "mimetype": "text/x-python",
   "name": "python",
   "nbconvert_exporter": "python",
   "pygments_lexer": "ipython3",
   "version": "3.6.7"
  }
 },
 "nbformat": 4,
 "nbformat_minor": 2
}
