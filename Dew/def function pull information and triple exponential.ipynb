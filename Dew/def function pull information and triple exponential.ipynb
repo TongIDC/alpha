{
 "cells": [
  {
   "cell_type": "code",
   "execution_count": 9,
   "metadata": {},
   "outputs": [],
   "source": [
    "from statsmodels.tsa.api import ExponentialSmoothing, SimpleExpSmoothing, Holt\n",
    "import pandas as pd\n",
    "import matplotlib.pyplot as plt\n",
    "%matplotlib inline\n",
    "from matplotlib.ticker import FuncFormatter\n",
    "%config InlineBackend.figure_format='retina'"
   ]
  },
  {
   "cell_type": "code",
   "execution_count": 10,
   "metadata": {},
   "outputs": [],
   "source": [
    "pd.set_option('display.max_rows',100)"
   ]
  },
  {
   "cell_type": "code",
   "execution_count": 17,
   "metadata": {},
   "outputs": [],
   "source": [
    "def createpath(predict_date,num_day):\n",
    "    predict_day=int(predict_date[8:])\n",
    "    predict_month=int(predict_date[5:7])\n",
    "    predict_year=int(predict_date[0:4])\n",
    "    daybefore=[]\n",
    "    pmb=predict_month-1\n",
    "    dayleft=num_day-predict_day\n",
    "    if predict_day>=num_day:\n",
    "        day=predict_day-num_day\n",
    "        while day<predict_day:\n",
    "            daybefore.append(str(predict_year)+'_'+str(predict_month).zfill(2)+'_'+str(day).zfill(2))\n",
    "            day+=1\n",
    "    else:\n",
    "        if pmb==1 or pmb==3 or pmb==5 or pmb==7 or pmb==8 or pmb==10 or pmb==12:\n",
    "            for i in range(31-dayleft,32,1):\n",
    "                daybefore.append(str(predict_year)+'_'+str(pmb).zfill(2)+'_'+str(i).zfill(2))\n",
    "            for i in range(1,predict_day,1):\n",
    "                daybefore.append(str(predict_year)+'_'+str(predict_month).zfill(2)+'_'+str(i).zfill(2))\n",
    "        elif pmb==4 or pmb==6 or pmb==9 or pmb==11:\n",
    "            for i in range(30-dayleft,31,1):\n",
    "                daybefore.append(str(predict_year)+'_'+str(pmb).zfill(2)+'_'+str(i).zfill(2))\n",
    "            for i in range(1,predict_day,1):\n",
    "                daybefore.append(str(predict_year)+'_'+str(predict_month).zfill(2)+'_'+str(i).zfill(2))\n",
    "        else:\n",
    "            if predict_year%4==0:\n",
    "                for i in range(29-dayleft,30,1):\n",
    "                    daybefore.append(str(predict_year)+'_'+str(pmb).zfill(2)+'_'+str(i).zfill(2))\n",
    "                for i in range(1,predict_day,1):\n",
    "                    daybefore.append(str(predict_year)+'_'+str(predict_month).zfill(2)+'_'+str(i).zfill(2))\n",
    "            else:\n",
    "                for i in range(28-dayleft,29,1):\n",
    "                    daybefore.append(str(predict_year)+'_'+str(pmb).zfill(2)+'_'+str(i).zfill(2))\n",
    "                for i in range(1,predict_day,1):\n",
    "                    daybefore.append(str(predict_year)+'_'+str(predict_month).zfill(2)+'_'+str(i).zfill(2))\n",
    "    pathlist=[]\n",
    "    for i in daybefore:\n",
    "        pathlist.append('Energy_Balance_'+str(i))\n",
    "    return pathlist,predict_date\n",
    "    "
   ]
  },
  {
   "cell_type": "code",
   "execution_count": 12,
   "metadata": {},
   "outputs": [],
   "source": [
    "def clean(path):\n",
    "    rawdata=pd.read_csv(path+\".csv\", delimiter=\";\" )\n",
    "    deleteindex=rawdata.loc[rawdata.loc[pd.IndexSlice[:,'Battery discharging / Mean values [W] ']]==' '].index\n",
    "    rawdata.drop(deleteindex,inplace=True)\n",
    "    rawdata.rename(columns={' ':'Time'},inplace=True)\n",
    "    rawdata['Time']=rawdata['Time'].str.replace('[^\\d]','')\n",
    "    rawdata['Time']=path[15:19]+path[20:22]+path[23:]+rawdata['Time']\n",
    "    rawdata['Time']=pd.to_datetime(rawdata.Time)\n",
    "    rawdata.set_index('Time', inplace=True)\n",
    "    for i in rawdata.columns:\n",
    "        if i != 'Direct consumption / Mean values [W] ' and i != 'Battery discharging / Mean values [W] ' and i!='External energy supply / Mean values [W] ' and i != 'PV power generation / Mean values [W]  ':\n",
    "            rawdata.drop([i],axis=1,inplace=True)\n",
    "    for i in rawdata.columns:\n",
    "        rawdata[i].fillna('0',inplace=True)\n",
    "        rawdata[i]=rawdata[i].apply(lambda x: x.replace(' ', '0'))\n",
    "        rawdata[i]=rawdata[i].str.replace('\\D','').astype(int)\n",
    "    rawdata['Consumption']=rawdata['Direct consumption / Mean values [W] ']+rawdata['Battery discharging / Mean values [W] ']+rawdata['External energy supply / Mean values [W] ']\n",
    "    rawdata.rename(columns={'PV power generation / Mean values [W]  ':'Generation'},inplace=True)\n",
    "    rawdata.drop(['Direct consumption / Mean values [W] ', 'Battery discharging / Mean values [W] ','External energy supply / Mean values [W] '],axis=1,inplace=True)\n",
    "    rawdata.drop(['Generation'],axis=1,inplace=True)\n",
    "    return rawdata"
   ]
  },
  {
   "cell_type": "code",
   "execution_count": 13,
   "metadata": {},
   "outputs": [],
   "source": [
    "def pulldata(pathlist):\n",
    "    rawdata=[]\n",
    "    for i in pathlist:\n",
    "        df=clean(i)\n",
    "        rawdata.append(df)\n",
    "    data=rawdata[0]\n",
    "    for i in range(num_day-1):\n",
    "        data=pd.concat([data,rawdata[i-1]])\n",
    "    return (data)"
   ]
  },
  {
   "cell_type": "code",
   "execution_count": 14,
   "metadata": {},
   "outputs": [],
   "source": [
    "def completemissing (data):\n",
    "    for i in range(data.shape[0]):\n",
    "        if data.iloc[i,0]==0:\n",
    "            data.iloc[i,0]=data.iloc[i-96,0]\n",
    "    return data"
   ]
  },
  {
   "cell_type": "code",
   "execution_count": null,
   "metadata": {},
   "outputs": [],
   "source": [
    "def completemissingpredict (compare):\n",
    "    "
   ]
  },
  {
   "cell_type": "code",
   "execution_count": 19,
   "metadata": {},
   "outputs": [],
   "source": [
    "def TestTripleExpo (data):\n",
    "    fit4 = ExponentialSmoothing(data.Consumption, seasonal_periods=96, trend='add' ,seasonal='mul').fit()\n",
    "    forecast=fit4.forecast(96)\n",
    "    compare=clean('Energy_Balance_'+predict_date)\n",
    "    pmb=predict_month-1\n",
    "    if predict_day>1:\n",
    "        db=(str(predict_year)+'_'+str(predict_month).zfill(2)+'_'+str(predict_day-1).zfill(2))\n",
    "    else:\n",
    "        if pmb==1 or pmb==3 or pmb==5 or pmb==7 or pmb==8 or pmb==10 or pmb==12:\n",
    "            db=(str(predict_year)+'_'+str(pmb).zfill(2)+'_'+str(31).zfill(2))\n",
    "        elif pmb==4 or pmb==6 or pmb==9 or pmb==11:\n",
    "            db=(str(predict_year)+'_'+str(pmb).zfill(2)+'_'+str(30).zfill(2))\n",
    "        else:\n",
    "            if predict_year%4==0:\n",
    "                db=(str(predict_year)+'_'+str(pmb).zfill(2)+'_'+str(29).zfill(2))\n",
    "            else:\n",
    "                db=(str(predict_year)+'_'+str(pmb).zfill(2)+'_'+str(38).zfill(2))    \n",
    "    dayb=clean('Energy_Balance_'+db)\n",
    "    bf=clean('Energy_Balance_'+str(predict_year)+'_'+str(predict_month).zfill(2)+'_'+str(predict_day-1).zfill(2))\n",
    "    for i in range(compare.shape[0]):\n",
    "        if compare.iloc[i,0]==0:\n",
    "            compare.iloc[i,0]=dayb.iloc[i,0]\n",
    "    for i in range(96):\n",
    "        forecastcolumn.append(forecast.iloc[i])\n",
    "    compare['Forecast']=forecastcolumn\n",
    "    compare.rename(columns={'Consumption':'Real'},inplace=True)\n",
    "    compare['Error']=compare['Real']-compare['Forecast']\n",
    "    compare['absError/Real']=abs(compare['Error'])/compare['Real']\n",
    "    MAPE=compare['absError/Real'].sum()*100/96\n",
    "    return (compare,fit4.model.params)"
   ]
  }
 ],
 "metadata": {
  "kernelspec": {
   "display_name": "Python 3",
   "language": "python",
   "name": "python3"
  },
  "language_info": {
   "codemirror_mode": {
    "name": "ipython",
    "version": 3
   },
   "file_extension": ".py",
   "mimetype": "text/x-python",
   "name": "python",
   "nbconvert_exporter": "python",
   "pygments_lexer": "ipython3",
   "version": "3.7.1"
  }
 },
 "nbformat": 4,
 "nbformat_minor": 2
}
