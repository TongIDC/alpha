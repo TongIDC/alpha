{
 "cells": [
  {
   "cell_type": "code",
   "execution_count": 4,
   "metadata": {},
   "outputs": [
    {
     "name": "stderr",
     "output_type": "stream",
     "text": [
      "C:\\Anaconda3\\lib\\site-packages\\statsmodels\\tsa\\base\\tsa_model.py:225: ValueWarning: A date index has been provided, but it has no associated frequency information and so will be ignored when e.g. forecasting.\n",
      "  ' ignored when e.g. forecasting.', ValueWarning)\n",
      "C:\\Anaconda3\\lib\\site-packages\\statsmodels\\tsa\\base\\tsa_model.py:531: ValueWarning: No supported index is available. Prediction results will be given with an integer index beginning at `start`.\n",
      "  ValueWarning)\n"
     ]
    },
    {
     "name": "stdout",
     "output_type": "stream",
     "text": [
      "21.22751310236055\n"
     ]
    },
    {
     "name": "stderr",
     "output_type": "stream",
     "text": [
      "C:\\Anaconda3\\lib\\site-packages\\statsmodels\\tsa\\base\\tsa_model.py:225: ValueWarning: A date index has been provided, but it has no associated frequency information and so will be ignored when e.g. forecasting.\n",
      "  ' ignored when e.g. forecasting.', ValueWarning)\n",
      "C:\\Anaconda3\\lib\\site-packages\\statsmodels\\tsa\\base\\tsa_model.py:531: ValueWarning: No supported index is available. Prediction results will be given with an integer index beginning at `start`.\n",
      "  ValueWarning)\n"
     ]
    },
    {
     "name": "stdout",
     "output_type": "stream",
     "text": [
      "22.994942754022052\n"
     ]
    },
    {
     "name": "stderr",
     "output_type": "stream",
     "text": [
      "C:\\Anaconda3\\lib\\site-packages\\statsmodels\\tsa\\base\\tsa_model.py:225: ValueWarning: A date index has been provided, but it has no associated frequency information and so will be ignored when e.g. forecasting.\n",
      "  ' ignored when e.g. forecasting.', ValueWarning)\n",
      "C:\\Anaconda3\\lib\\site-packages\\statsmodels\\tsa\\base\\tsa_model.py:531: ValueWarning: No supported index is available. Prediction results will be given with an integer index beginning at `start`.\n",
      "  ValueWarning)\n"
     ]
    },
    {
     "name": "stdout",
     "output_type": "stream",
     "text": [
      "15.222838845869541\n"
     ]
    },
    {
     "name": "stderr",
     "output_type": "stream",
     "text": [
      "C:\\Anaconda3\\lib\\site-packages\\statsmodels\\tsa\\base\\tsa_model.py:225: ValueWarning: A date index has been provided, but it has no associated frequency information and so will be ignored when e.g. forecasting.\n",
      "  ' ignored when e.g. forecasting.', ValueWarning)\n"
     ]
    },
    {
     "name": "stdout",
     "output_type": "stream",
     "text": [
      "23.37766925025102\n"
     ]
    },
    {
     "name": "stderr",
     "output_type": "stream",
     "text": [
      "C:\\Anaconda3\\lib\\site-packages\\statsmodels\\tsa\\base\\tsa_model.py:531: ValueWarning: No supported index is available. Prediction results will be given with an integer index beginning at `start`.\n",
      "  ValueWarning)\n"
     ]
    }
   ],
   "source": [
    "from statsmodels.tsa.api import ExponentialSmoothing, SimpleExpSmoothing, Holt\n",
    "import pandas as pd\n",
    "import matplotlib.pyplot as plt\n",
    "%matplotlib inline\n",
    "from matplotlib.ticker import FuncFormatter\n",
    "%config InlineBackend.figure_format='retina'\n",
    "\n",
    "daytest=[21,22,23,24]\n",
    "for i in daytest:\n",
    "    pd.set_option('display.max_rows',100)\n",
    "    predict_date='2018_12_'+str(i)\n",
    "\n",
    "    num_day=15\n",
    "\n",
    "    predict_day=int(predict_date[8:])\n",
    "    predict_month=int(predict_date[5:7])\n",
    "    predict_year=int(predict_date[0:4])\n",
    "\n",
    "    str(predict_year)+'_'+str(predict_month)+'_'+str(predict_day)\n",
    "\n",
    "    daybefore=[]\n",
    "    pmb=predict_month-1\n",
    "    dayleft=num_day-predict_day\n",
    "\n",
    "    if predict_day>=num_day:\n",
    "        day=predict_day-num_day\n",
    "        while day<predict_day:\n",
    "            daybefore.append(str(predict_year)+'_'+str(predict_month).zfill(2)+'_'+str(day).zfill(2))\n",
    "            day+=1\n",
    "    else:\n",
    "        if pmb==1 or pmb==3 or pmb==5 or pmb==7 or pmb==8 or pmb==10 or pmb==12:\n",
    "            for i in range(31-dayleft,32,1):\n",
    "                daybefore.append(str(predict_year)+'_'+str(pmb).zfill(2)+'_'+str(i).zfill(2))\n",
    "            for i in range(1,predict_day,1):\n",
    "                daybefore.append(str(predict_year)+'_'+str(predict_month).zfill(2)+'_'+str(i).zfill(2))\n",
    "        elif pmb==4 or pmb==6 or pmb==9 or pmb==11:\n",
    "            for i in range(30-dayleft,31,1):\n",
    "                daybefore.append(str(predict_year)+'_'+str(pmb).zfill(2)+'_'+str(i).zfill(2))\n",
    "            for i in range(1,predict_day,1):\n",
    "                daybefore.append(str(predict_year)+'_'+str(predict_month).zfill(2)+'_'+str(i).zfill(2))\n",
    "        else:\n",
    "            if predict_year%4==0:\n",
    "                for i in range(29-dayleft,30,1):\n",
    "                    daybefore.append(str(predict_year)+'_'+str(pmb).zfill(2)+'_'+str(i).zfill(2))\n",
    "                for i in range(1,predict_day,1):\n",
    "                    daybefore.append(str(predict_year)+'_'+str(predict_month).zfill(2)+'_'+str(i).zfill(2))\n",
    "            else:\n",
    "                for i in range(28-dayleft,29,1):\n",
    "                    daybefore.append(str(predict_year)+'_'+str(pmb).zfill(2)+'_'+str(i).zfill(2))\n",
    "                for i in range(1,predict_day,1):\n",
    "                    daybefore.append(str(predict_year)+'_'+str(predict_month).zfill(2)+'_'+str(i).zfill(2))\n",
    "\n",
    "\n",
    "\n",
    "    daybefore\n",
    "\n",
    "    ## Have daybefore\n",
    "\n",
    "    pathlist=[]\n",
    "    for i in daybefore:\n",
    "        pathlist.append('Energy_Balance_'+str(i))\n",
    "    pathlist\n",
    "\n",
    "    def clean(path):\n",
    "        rawdata=pd.read_csv(path+\".csv\", delimiter=\";\" )\n",
    "        deleteindex=rawdata.loc[rawdata.loc[pd.IndexSlice[:,'Battery discharging / Mean values [W] ']]==' '].index\n",
    "        rawdata.drop(deleteindex,inplace=True)\n",
    "        rawdata.rename(columns={' ':'Time'},inplace=True)\n",
    "        rawdata['Time']=rawdata['Time'].str.replace('[^\\d]','')\n",
    "        rawdata['Time']=path[15:19]+path[20:22]+path[23:]+rawdata['Time']\n",
    "        rawdata['Time']=pd.to_datetime(rawdata.Time)\n",
    "        rawdata.set_index('Time', inplace=True)\n",
    "        for i in rawdata.columns:\n",
    "            if i != 'Direct consumption / Mean values [W] ' and i != 'Battery discharging / Mean values [W] ' and i!='External energy supply / Mean values [W] ' and i != 'PV power generation / Mean values [W]  ':\n",
    "                rawdata.drop([i],axis=1,inplace=True)\n",
    "        for i in rawdata.columns:\n",
    "            rawdata[i].fillna('0',inplace=True)\n",
    "            rawdata[i]=rawdata[i].apply(lambda x: x.replace(' ', '0'))\n",
    "            rawdata[i]=rawdata[i].str.replace('\\D','').astype(int)\n",
    "        rawdata['Consumption']=rawdata['Direct consumption / Mean values [W] ']+rawdata['Battery discharging / Mean values [W] ']+rawdata['External energy supply / Mean values [W] ']\n",
    "        rawdata.rename(columns={'PV power generation / Mean values [W]  ':'Generation'},inplace=True)\n",
    "        rawdata.drop(['Direct consumption / Mean values [W] ', 'Battery discharging / Mean values [W] ','External energy supply / Mean values [W] '],axis=1,inplace=True)\n",
    "        rawdata.drop(['Generation'],axis=1,inplace=True)\n",
    "        return rawdata\n",
    "\n",
    "    rawdata=[]\n",
    "\n",
    "    for i in pathlist:\n",
    "        df=clean(i)\n",
    "        rawdata.append(df)\n",
    "    rawdata\n",
    "\n",
    "\n",
    "    data=rawdata[0]\n",
    "    for i in range(num_day-1):\n",
    "        data=pd.concat([data,rawdata[i+1]])\n",
    "    data.shape\n",
    "\n",
    "\n",
    "    data\n",
    "\n",
    "    ## Complete the missing value with value in day before\n",
    "\n",
    "    (data.Consumption==0).any()\n",
    "\n",
    "    for i in range(data.shape[0]):\n",
    "        if data.iloc[i,0]==0:\n",
    "            data.iloc[i,0]=data.iloc[i-96,0]\n",
    "            #print(data.iloc[i])\n",
    "\n",
    "    fit4 = ExponentialSmoothing(data.Consumption, seasonal_periods=96, trend='add' ,seasonal='mul').fit()\n",
    "\n",
    "    fit4\n",
    "\n",
    "    #fit4.fittedvalues.plot(style='--', color='red')\n",
    "\n",
    "    forecast=fit4.forecast(96)\n",
    "    #forecast.plot(style='--', marker='o', color='red', legend=True)\n",
    "\n",
    "    compare=clean('Energy_Balance_'+predict_date)\n",
    "    compare\n",
    "\n",
    "    pmb=predict_month-1\n",
    "    if predict_day>1:\n",
    "            db=(str(predict_year)+'_'+str(predict_month).zfill(2)+'_'+str(predict_day-1).zfill(2))\n",
    "    else:\n",
    "        if pmb==1 or pmb==3 or pmb==5 or pmb==7 or pmb==8 or pmb==10 or pmb==12:\n",
    "            db=(str(predict_year)+'_'+str(pmb).zfill(2)+'_'+str(31).zfill(2))\n",
    "        elif pmb==4 or pmb==6 or pmb==9 or pmb==11:\n",
    "            db=(str(predict_year)+'_'+str(pmb).zfill(2)+'_'+str(30).zfill(2))\n",
    "        else:\n",
    "            if predict_year%4==0:\n",
    "                db=(str(predict_year)+'_'+str(pmb).zfill(2)+'_'+str(29).zfill(2))\n",
    "            else:\n",
    "                db=(str(predict_year)+'_'+str(pmb).zfill(2)+'_'+str(38).zfill(2))    \n",
    "    dayb=clean('Energy_Balance_'+db)\n",
    "    bf=clean('Energy_Balance_'+str(predict_year)+'_'+str(predict_month).zfill(2)+'_'+str(predict_day-1).zfill(2))\n",
    "    for i in range(compare.shape[0]):\n",
    "        if compare.iloc[i,0]==0:\n",
    "            compare.iloc[i,0]=dayb.iloc[i,0]\n",
    "\n",
    "    forecastcolumn=[]\n",
    "    for i in range(96):\n",
    "        forecastcolumn.append(forecast.iloc[i])\n",
    "\n",
    "    compare['Forecast']=forecastcolumn\n",
    "\n",
    "    compare.rename(columns={'Consumption':'Real'},inplace=True)\n",
    "\n",
    "\n",
    "    ## Get missing info 13/12 9:15 =1000\n",
    "\n",
    "    compare['Error']=compare['Real']-compare['Forecast']\n",
    "\n",
    "    compare['absError/Real']=abs(compare['Error'])/compare['Real']\n",
    "\n",
    "\n",
    "    MAPE=compare['absError/Real'].sum()*100/96\n",
    "\n",
    "    #compare[['Real','Forecast']].plot(kind='line')\n",
    "    print(MAPE)\n",
    "#abs(compare.Error).plot(kind='line')\n",
    "\n",
    "#fit4.model.params"
   ]
  },
  {
   "cell_type": "code",
   "execution_count": null,
   "metadata": {},
   "outputs": [],
   "source": []
  }
 ],
 "metadata": {
  "kernelspec": {
   "display_name": "Python 3",
   "language": "python",
   "name": "python3"
  },
  "language_info": {
   "codemirror_mode": {
    "name": "ipython",
    "version": 3
   },
   "file_extension": ".py",
   "mimetype": "text/x-python",
   "name": "python",
   "nbconvert_exporter": "python",
   "pygments_lexer": "ipython3",
   "version": "3.7.1"
  }
 },
 "nbformat": 4,
 "nbformat_minor": 2
}
