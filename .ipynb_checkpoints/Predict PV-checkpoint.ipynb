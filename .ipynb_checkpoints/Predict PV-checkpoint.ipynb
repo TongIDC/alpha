{
 "cells": [
  {
   "cell_type": "code",
   "execution_count": 2,
   "metadata": {},
   "outputs": [],
   "source": [
    "import os\n",
    "import pandas as pd\n",
    "import json\n",
    "import datetime"
   ]
  },
  {
   "cell_type": "code",
   "execution_count": 27,
   "metadata": {},
   "outputs": [
    {
     "data": {
      "text/plain": [
       "array([[87.5 ,  0.75, 75.18, ...,  0.  ,  0.  ,  1.  ],\n",
       "       [87.72,  0.75, 75.55, ...,  0.  ,  0.  ,  1.  ],\n",
       "       [87.94,  0.75, 75.91, ...,  0.  ,  0.  ,  1.  ],\n",
       "       ...,\n",
       "       [95.49,  0.29, 71.78, ...,  0.  ,  0.  ,  1.  ],\n",
       "       [95.33,  0.29, 72.21, ...,  0.  ,  0.  ,  1.  ],\n",
       "       [95.14,  0.29, 72.63, ...,  0.  ,  0.  ,  1.  ]])"
      ]
     },
     "execution_count": 27,
     "metadata": {},
     "output_type": "execute_result"
    }
   ],
   "source": [
    "path = \"tongsdata/\"\n",
    "filename = \"2018-12-23.json\"\n",
    "filedate = filename.split(\".\")[0].split(\"-\")\n",
    "\n",
    "with open(path + filename, 'r', encoding='utf-8') as fin:\n",
    "    data_json = json.loads(fin.read())\n",
    "\n",
    "#  Create X DataFrame\n",
    "todayData = {time: data_json[time]['currently'] for time in data_json}\n",
    "todayData_DF = pd.DataFrame(todayData).T\n",
    "todayData_DF.index.names=['time_of_day']\n",
    "todayData_DF = todayData_DF.loc['06:30':'18:00']\n",
    "todayData_DF = todayData_DF.reset_index()\n",
    "todayData_DF['month'] = todayData_DF['time'].apply(datetime.datetime.fromtimestamp).apply(lambda x: x.month)\n",
    "todayData_DF['cloudCover'] = todayData_DF['cloudCover'].fillna(value=todayData_DF['cloudCover'].mean())\n",
    "todayData_DF = todayData_DF.drop(columns=['icon', 'summary', 'time', 'windBearing', 'windGust'])\n",
    "todayData_DF = pd.get_dummies(todayData_DF, columns=['time_of_day', 'precipType', 'uvIndex', 'month']) \n",
    "todayData_DF.shape\n",
    "first_predict = todayData_DF.astype('float').values\n",
    "first_predict"
   ]
  },
  {
   "cell_type": "code",
   "execution_count": null,
   "metadata": {},
   "outputs": [],
   "source": [
    "import numpy as np\n",
    "import pandas as pd\n",
    "from sklearn.ensemble import RandomForestRegressor\n",
    "from sklearn.model_selection import train_test_split\n",
    "\n",
    "training_features, testing_features, training_target, testing_target = train_test_split(X, y)\n",
    "\n",
    "# Average CV score on the training set was:-91867.4890210794\n",
    "exported_pipeline = RandomForestRegressor(bootstrap=False, max_features=0.3, min_samples_leaf=1, min_samples_split=7, n_estimators=100)\n",
    "\n",
    "exported_pipeline.fit(training_features, training_target)\n",
    "results = exported_pipeline.predict(testing_features)\n",
    "\n",
    "from sklearn.metrics import mean_squared_error, r2_score ,mean_absolute_error\n",
    "print(mean_squared_error(results, testing_target), \n",
    "mean_absolute_error(results, testing_target), \n",
    "r2_score(results, testing_target))"
   ]
  },
  {
   "cell_type": "code",
   "execution_count": 7,
   "metadata": {},
   "outputs": [
    {
     "data": {
      "text/plain": [
       "(96, 14)"
      ]
     },
     "execution_count": 7,
     "metadata": {},
     "output_type": "execute_result"
    }
   ],
   "source": [
    "todayData_DF.shape"
   ]
  },
  {
   "cell_type": "code",
   "execution_count": 5,
   "metadata": {},
   "outputs": [],
   "source": [
    "%matplotlib inline"
   ]
  },
  {
   "cell_type": "code",
   "execution_count": 7,
   "metadata": {},
   "outputs": [
    {
     "data": {
      "text/plain": [
       "<matplotlib.axes._subplots.AxesSubplot at 0x1f464079128>"
      ]
     },
     "execution_count": 7,
     "metadata": {},
     "output_type": "execute_result"
    },
    {
     "data": {
      "image/png": "[encoded data removed]",
      "text/plain": [
       "<Figure size 432x288 with 1 Axes>"
      ]
     },
     "metadata": {
      "needs_background": "light"
     },
     "output_type": "display_data"
    }
   ],
   "source": [
    "todayData_DF.windSpeed.plot()"
   ]
  },
  {
   "cell_type": "code",
   "execution_count": null,
   "metadata": {},
   "outputs": [],
   "source": []
  }
 ],
 "metadata": {
  "kernelspec": {
   "display_name": "Python 3",
   "language": "python",
   "name": "python3"
  },
  "language_info": {
   "codemirror_mode": {
    "name": "ipython",
    "version": 3
   },
   "file_extension": ".py",
   "mimetype": "text/x-python",
   "name": "python",
   "nbconvert_exporter": "python",
   "pygments_lexer": "ipython3",
   "version": "3.7.1"
  }
 },
 "nbformat": 4,
 "nbformat_minor": 2
}
