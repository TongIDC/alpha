{
 "cells": [
  {
   "cell_type": "markdown",
   "metadata": {},
   "source": [
    "Change files name in tongsdata"
   ]
  },
  {
   "cell_type": "code",
   "execution_count": 4,
   "metadata": {},
   "outputs": [
    {
     "name": "stdout",
     "output_type": "stream",
     "text": [
      " Volume in drive C is System Reserved\n",
      " Volume Serial Number is AA6E-9582\n",
      "\n",
      " Directory of C:\\Users\\User\\alpha\n",
      "\n",
      "02/25/2019  12:04 PM    <DIR>          .\n",
      "02/25/2019  12:04 PM    <DIR>          ..\n",
      "02/25/2019  01:53 AM    <DIR>          .ipynb_checkpoints\n",
      "12/25/2018  08:57 AM             1,186 best_model.py\n",
      "02/14/2019  10:15 PM             1,164 best_model_30days.py\n",
      "02/15/2019  11:46 AM               838 best_model_30days_2.py\n",
      "02/15/2019  08:56 PM             1,256 best_model_30days_3.py\n",
      "02/16/2019  08:57 AM             1,120 best_model_30days_4.py\n",
      "02/16/2019  09:29 AM             1,110 best_model_30days_5.py\n",
      "02/21/2019  02:38 AM               975 best_model_40days_1.py\n",
      "02/21/2019  12:16 PM               977 best_model_40days_2.py\n",
      "02/21/2019  03:08 PM             1,327 best_model_40days_3.py\n",
      "02/25/2019  12:04 PM            11,439 Change date.ipynb\n",
      "02/25/2019  01:00 AM    <DIR>          Dew code\n",
      "12/18/2018  02:45 AM            16,052 lesson 1.ipynb\n",
      "02/16/2019  08:56 AM           235,713 masterData_11.csv\n",
      "12/26/2018  01:09 AM            80,181 masterData1.csv\n",
      "12/18/2018  02:44 AM             1,002 modifiedEnergy.csv\n",
      "02/25/2019  12:55 AM            60,847 Predict PV.ipynb\n",
      "12/26/2018  01:16 AM             2,276 result.csv\n",
      "12/26/2018  01:15 AM             3,393 result_tpot.csv\n",
      "02/15/2019  12:13 PM            10,048 result_tpot_30days.csv\n",
      "02/15/2019  12:20 PM            16,407 result_tpot_30days_2.csv\n",
      "02/16/2019  10:16 AM            16,314 result_tpot_30days_3.csv\n",
      "02/16/2019  12:42 AM            16,000 result_tpot_30days_4.csv\n",
      "12/26/2018  01:09 AM             2,820 result2.csv\n",
      "02/21/2019  02:26 AM            55,965 tong's_senior_old.ipynb\n",
      "02/25/2019  02:55 AM            38,402 tong's_senior-checkpoint.ipynb\n",
      "02/25/2019  02:46 AM    <DIR>          tongsdata\n",
      "02/21/2019  03:00 PM            27,270 Untitled1.ipynb\n",
      "              25 File(s)        604,082 bytes\n",
      "               5 Dir(s)  35,491,508,224 bytes free\n"
     ]
    }
   ],
   "source": [
    "ls"
   ]
  },
  {
   "cell_type": "code",
   "execution_count": 5,
   "metadata": {},
   "outputs": [
    {
     "name": "stdout",
     "output_type": "stream",
     "text": [
      "C:\\Users\\User\\alpha\\tongsdata\n"
     ]
    }
   ],
   "source": [
    "cd tongsdata"
   ]
  },
  {
   "cell_type": "code",
   "execution_count": 6,
   "metadata": {},
   "outputs": [
    {
     "name": "stdout",
     "output_type": "stream",
     "text": [
      " Volume in drive C is System Reserved\n",
      " Volume Serial Number is AA6E-9582\n",
      "\n",
      " Directory of C:\\Users\\User\\alpha\\tongsdata\n",
      "\n",
      "02/25/2019  02:46 AM    <DIR>          .\n",
      "02/25/2019  02:46 AM    <DIR>          ..\n",
      "12/21/2018  09:15 AM           711,208 2018_11_01.json\n",
      "12/21/2018  09:17 AM           689,096 2018_11_02.json\n",
      "12/21/2018  09:20 AM           713,048 2018_11_03.json\n",
      "12/21/2018  09:22 AM           702,555 2018_11_04.json\n",
      "12/21/2018  09:24 AM           725,588 2018_11_05.json\n",
      "12/21/2018  09:26 AM           703,416 2018_11_06.json\n",
      "12/21/2018  09:29 AM           750,504 2018_11_07.json\n",
      "12/21/2018  09:31 AM           828,433 2018_11_08.json\n",
      "12/21/2018  09:34 AM           817,512 2018_11_09.json\n",
      "12/21/2018  09:36 AM           814,898 2018_11_10.json\n",
      "12/23/2018  09:42 PM           748,862 2018_11_11.json\n",
      "12/23/2018  09:44 PM           746,892 2018_11_12.json\n",
      "12/23/2018  09:46 PM           799,595 2018_11_13.json\n",
      "12/23/2018  09:48 PM           805,455 2018_11_14.json\n",
      "12/23/2018  09:50 PM           797,533 2018_11_15.json\n",
      "12/23/2018  09:52 PM           811,974 2018_11_16.json\n",
      "12/23/2018  09:54 PM           791,335 2018_11_17.json\n",
      "12/23/2018  09:56 PM           792,676 2018_11_18.json\n",
      "12/23/2018  09:57 PM           767,571 2018_11_19.json\n",
      "12/24/2018  02:15 PM           804,808 2018_11_20.json\n",
      "12/24/2018  02:17 PM           776,632 2018_11_21.json\n",
      "12/24/2018  02:19 PM           794,236 2018_11_22.json\n",
      "12/24/2018  02:20 PM           788,302 2018_11_23.json\n",
      "12/24/2018  02:22 PM           851,733 2018_11_24.json\n",
      "12/24/2018  02:24 PM           989,455 2018_11_25.json\n",
      "12/24/2018  02:26 PM         1,002,519 2018_11_26.json\n",
      "12/24/2018  02:28 PM         1,038,744 2018_11_27.json\n",
      "12/24/2018  02:30 PM         1,012,690 2018_11_28.json\n",
      "02/01/2019  02:29 AM           776,601 2018_11_29.json\n",
      "02/01/2019  02:31 AM           784,681 2018_11_30.json\n",
      "02/17/2019  01:17 AM           798,027 2018_12_01.json\n",
      "02/17/2019  01:18 AM           785,399 2018_12_02.json\n",
      "02/17/2019  01:20 AM           754,535 2018_12_03.json\n",
      "02/17/2019  01:22 AM           764,363 2018_12_04.json\n",
      "02/17/2019  01:24 AM           756,171 2018_12_05.json\n",
      "02/17/2019  01:25 AM           771,116 2018_12_06.json\n",
      "02/17/2019  01:27 AM           791,590 2018_12_07.json\n",
      "02/17/2019  01:29 AM           823,408 2018_12_08.json\n",
      "02/17/2019  01:31 AM           809,166 2018_12_09.json\n",
      "02/17/2019  01:33 AM           769,082 2018_12_10.json\n",
      "02/25/2019  12:15 AM           781,398 2018-12-11.json\n",
      "02/25/2019  12:17 AM           805,850 2018-12-12.json\n",
      "02/25/2019  12:18 AM           759,870 2018-12-13.json\n",
      "02/25/2019  12:20 AM           758,949 2018-12-14.json\n",
      "02/25/2019  12:22 AM           779,215 2018-12-15.json\n",
      "02/25/2019  12:24 AM           777,572 2018-12-16.json\n",
      "02/25/2019  12:25 AM           756,213 2018-12-17.json\n",
      "02/25/2019  12:27 AM           754,344 2018-12-18.json\n",
      "02/25/2019  12:29 AM           749,263 2018-12-19.json\n",
      "02/25/2019  12:31 AM           714,582 2018-12-20.json\n",
      "02/25/2019  12:37 AM           738,845 2018-12-21.json\n",
      "02/25/2019  12:39 AM           790,086 2018-12-22.json\n",
      "02/25/2019  12:41 AM           809,727 2018-12-23.json\n",
      "02/25/2019  12:42 AM           707,700 2018-12-24.json\n",
      "02/25/2019  12:44 AM           742,179 2018-12-25.json\n",
      "02/25/2019  12:46 AM           755,938 2018-12-26.json\n",
      "02/25/2019  12:48 AM           714,529 2018-12-27.json\n",
      "02/25/2019  12:50 AM           777,165 2018-12-28.json\n",
      "02/25/2019  12:51 AM           837,639 2018-12-29.json\n",
      "02/25/2019  12:53 AM           799,621 2018-12-30.json\n",
      "02/25/2019  02:51 AM    <DIR>          energyBalance\n",
      "              60 File(s)     47,272,094 bytes\n",
      "               3 Dir(s)  35,489,914,880 bytes free\n"
     ]
    }
   ],
   "source": [
    "ls"
   ]
  },
  {
   "cell_type": "code",
   "execution_count": 7,
   "metadata": {},
   "outputs": [],
   "source": [
    "import os"
   ]
  },
  {
   "cell_type": "code",
   "execution_count": 9,
   "metadata": {
    "scrolled": true
   },
   "outputs": [
    {
     "name": "stdout",
     "output_type": "stream",
     "text": [
      "2018.json_11_01.json\n",
      "2018.json_11_02.json\n",
      "2018.json_11_03.json\n",
      "2018.json_11_04.json\n",
      "2018.json_11_05.json\n",
      "2018.json_11_06.json\n",
      "2018.json_11_07.json\n",
      "2018.json_11_08.json\n",
      "2018.json_11_09.json\n",
      "2018.json_11_10.json\n",
      "2018.json_11_11.json\n",
      "2018.json_11_12.json\n",
      "2018.json_11_13.json\n",
      "2018.json_11_14.json\n",
      "2018.json_11_15.json\n",
      "2018.json_11_16.json\n",
      "2018.json_11_17.json\n",
      "2018.json_11_18.json\n",
      "2018.json_11_19.json\n",
      "2018.json_11_20.json\n",
      "2018.json_11_21.json\n",
      "2018.json_11_22.json\n",
      "2018.json_11_23.json\n",
      "2018.json_11_24.json\n",
      "2018.json_11_25.json\n",
      "2018.json_11_26.json\n",
      "2018.json_11_27.json\n",
      "2018.json_11_28.json\n",
      "2018.json_11_29.json\n",
      "2018.json_11_30.json\n",
      "2018.json_12_01.json\n",
      "2018.json_12_02.json\n",
      "2018.json_12_03.json\n",
      "2018.json_12_04.json\n",
      "2018.json_12_05.json\n",
      "2018.json_12_06.json\n",
      "2018.json_12_07.json\n",
      "2018.json_12_08.json\n",
      "2018.json_12_09.json\n",
      "2018.json_12_10.json\n",
      "energyBalance\n"
     ]
    }
   ],
   "source": [
    "for filename in os.listdir(\".\"):\n",
    "    filedate = filename.split(\"-\")\n",
    "    newfilename = \"{}_{}_{}\".format(filedate[2], filedate[1], filedate[0])\n",
    "    os.rename(filename, newfilename)"
   ]
  },
  {
   "cell_type": "code",
   "execution_count": 12,
   "metadata": {},
   "outputs": [],
   "source": [
    "for filename in os.listdir(\".\"):\n",
    "    newfilename = filename.replace(\"_\",'-')\n",
    "    os.rename(filename, newfilename)"
   ]
  },
  {
   "cell_type": "code",
   "execution_count": 13,
   "metadata": {},
   "outputs": [
    {
     "name": "stdout",
     "output_type": "stream",
     "text": [
      "2018-11-01.json\n",
      "2018-11-02.json\n",
      "2018-11-03.json\n",
      "2018-11-04.json\n",
      "2018-11-05.json\n",
      "2018-11-06.json\n",
      "2018-11-07.json\n",
      "2018-11-08.json\n",
      "2018-11-09.json\n",
      "2018-11-10.json\n",
      "2018-11-11.json\n",
      "2018-11-12.json\n",
      "2018-11-13.json\n",
      "2018-11-14.json\n",
      "2018-11-15.json\n",
      "2018-11-16.json\n",
      "2018-11-17.json\n",
      "2018-11-18.json\n",
      "2018-11-19.json\n",
      "2018-11-20.json\n",
      "2018-11-21.json\n",
      "2018-11-22.json\n",
      "2018-11-23.json\n",
      "2018-11-24.json\n",
      "2018-11-25.json\n",
      "2018-11-26.json\n",
      "2018-11-27.json\n",
      "2018-11-28.json\n",
      "2018-11-29.json\n",
      "2018-11-30.json\n",
      "2018-12-01.json\n",
      "2018-12-02.json\n",
      "2018-12-03.json\n",
      "2018-12-04.json\n",
      "2018-12-05.json\n",
      "2018-12-06.json\n",
      "2018-12-07.json\n",
      "2018-12-08.json\n",
      "2018-12-09.json\n",
      "2018-12-10.json\n",
      "2018-12-11.json\n",
      "2018-12-12.json\n",
      "2018-12-13.json\n",
      "2018-12-14.json\n",
      "2018-12-15.json\n",
      "2018-12-16.json\n",
      "2018-12-17.json\n",
      "2018-12-18.json\n",
      "2018-12-19.json\n",
      "2018-12-20.json\n",
      "2018-12-21.json\n",
      "2018-12-22.json\n",
      "2018-12-23.json\n",
      "2018-12-24.json\n",
      "2018-12-25.json\n",
      "2018-12-26.json\n",
      "2018-12-27.json\n",
      "2018-12-28.json\n",
      "2018-12-29.json\n",
      "2018-12-30.json\n",
      "energyBalance\n"
     ]
    }
   ],
   "source": [
    "for filename in os.listdir(\".\"):\n",
    "    print(filename)"
   ]
  },
  {
   "cell_type": "code",
   "execution_count": 11,
   "metadata": {},
   "outputs": [
    {
     "data": {
      "text/plain": [
       "'2018-10-10'"
      ]
     },
     "execution_count": 11,
     "metadata": {},
     "output_type": "execute_result"
    }
   ],
   "source": [
    "filename='2018_10_10'\n",
    "filename.replace(\"_\",'-')"
   ]
  },
  {
   "cell_type": "code",
   "execution_count": null,
   "metadata": {},
   "outputs": [],
   "source": []
  }
 ],
 "metadata": {
  "kernelspec": {
   "display_name": "Python 3",
   "language": "python",
   "name": "python3"
  },
  "language_info": {
   "codemirror_mode": {
    "name": "ipython",
    "version": 3
   },
   "file_extension": ".py",
   "mimetype": "text/x-python",
   "name": "python",
   "nbconvert_exporter": "python",
   "pygments_lexer": "ipython3",
   "version": "3.6.7"
  }
 },
 "nbformat": 4,
 "nbformat_minor": 2
}
