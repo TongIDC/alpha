{
 "cells": [
  {
   "cell_type": "code",
   "execution_count": 2,
   "metadata": {},
   "outputs": [],
   "source": [
    "import pandas as pd\n",
    "import numpy as np\n",
    "import matplotlib.pyplot as plt\n",
    "%matplotlib inline\n",
    "%config InlineBackend.figure_format='retina'"
   ]
  },
  {
   "cell_type": "code",
   "execution_count": null,
   "metadata": {},
   "outputs": [],
   "source": [
    "from gpiozero import LED"
   ]
  },
  {
   "cell_type": "code",
   "execution_count": 14,
   "metadata": {},
   "outputs": [],
   "source": [
    "import time"
   ]
  },
  {
   "cell_type": "code",
   "execution_count": 3,
   "metadata": {},
   "outputs": [],
   "source": [
    "from statsmodels.tsa.api import ExponentialSmoothing, SimpleExpSmoothing, Holt"
   ]
  },
  {
   "cell_type": "code",
   "execution_count": 4,
   "metadata": {},
   "outputs": [],
   "source": [
    "def dutycyclemode(rawdata,percent_batt):\n",
    "    import datetime\n",
    "    batt=percent_batt*96\n",
    "    Consumption_afterPV=[]\n",
    "    Charge=[]\n",
    "    for i in rawdata.index:\n",
    "        if rawdata.loc[i,'Generation']>=rawdata.loc[i,'Consumption']:\n",
    "            Charge.append(rawdata.loc[i,'Generation']-rawdata.loc[i,'Consumption'])\n",
    "            Consumption_afterPV.append(0)\n",
    "        else:\n",
    "            Charge.append(0)\n",
    "            Consumption_afterPV.append(rawdata.loc[i,'Consumption']-rawdata.loc[i,'Generation'])    \n",
    "\n",
    "    rawdata['Charge']=Charge\n",
    "    rawdata['Consumption_afterPV']=Consumption_afterPV\n",
    "\n",
    "    totalcharge=rawdata['Charge'].sum()/4\n",
    "\n",
    "    datanotstart=rawdata[rawdata.Generation==0]\n",
    "    dataonlystart=rawdata[rawdata.Generation!=0]\n",
    "    start_time=dataonlystart.index[0]\n",
    "    consumption_night=rawdata.loc[:start_time,'Consumption'].sum()/4\n",
    "\n",
    "    if totalcharge+batt>9600:\n",
    "        discharge_only_at_night=1\n",
    "        if batt-consumption_night>0.6*9600:\n",
    "            batt_start=batt-consumption_night\n",
    "        else:\n",
    "            batt_start=0.6*9600\n",
    "    else:\n",
    "        discharge_only_at_night=0\n",
    "        batt_start=percent_batt*96\n",
    "\n",
    "    contactor=[]\n",
    "\n",
    "    for i in rawdata[rawdata.index[0]:start_time].drop(start_time).index:\n",
    "        if discharge_only_at_night==1:\n",
    "            contactor.append(1)\n",
    "        else:\n",
    "            contactor.append(0)\n",
    "            \n",
    "    lastchargetime=rawdata[rawdata['Charge']!=0].index[-1]\n",
    "    stop_time=lastchargetime+pd.Timedelta('15 min')\n",
    "    remain=batt_start-9600*0.6\n",
    "    overcharge=batt_start+totalcharge-9600\n",
    "    \n",
    "    for i in rawdata[start_time:lastchargetime].index:\n",
    "        if rawdata.loc[i,'Charge'] > 0:\n",
    "            contactor.append(1)\n",
    "            remain += rawdata.loc[i,'Charge']/4\n",
    "        elif overcharge <= 0:\n",
    "            contactor.append(0)\n",
    "        elif remain==0:\n",
    "            contactor.append(0)\n",
    "        else:\n",
    "            contactor.append(1)\n",
    "            overcharge=overcharge-(rawdata.loc[i,'Consumption']-rawdata.loc[i,'Generation'])/4\n",
    "\n",
    "    for i in rawdata[stop_time:].index:\n",
    "        contactor.append(0)\n",
    "        \n",
    "    rawdata['Contactor']=contactor\n",
    "        \n",
    "    battleft=(percent_batt-60)*96*4\n",
    "    rawdata['Discharge']=rawdata['Contactor']*0\n",
    "    for i in rawdata.index:\n",
    "        if rawdata.loc[i,'Contactor']==1:\n",
    "            if rawdata.loc[i,'Charge'] != 0:\n",
    "                battleft=battleft+rawdata.loc[i,'Charge']\n",
    "            else:\n",
    "                if battleft >= rawdata.loc[i,'Consumption_afterPV']:\n",
    "                    rawdata.loc[i,'Discharge']= rawdata.loc[i,'Consumption_afterPV']\n",
    "                    battleft=battleft- rawdata.loc[i,'Consumption_afterPV']\n",
    "                else:\n",
    "                    rawdata.loc[i,'Discharge']=battleft\n",
    "                    battleft=0\n",
    "                    \n",
    "                    \n",
    "    checkcharge=(percent_batt-60)*96*4\n",
    "    cclist=[]\n",
    "    for i in rawdata.index:\n",
    "        if rawdata.loc[i,'Contactor']==1:\n",
    "            if rawdata.loc[i,'Charge'] != 0 :\n",
    "                if checkcharge+rawdata.loc[i,'Charge']>=40*96*4:\n",
    "                    rawdata.loc[i,'Charge']=40*96*4-checkcharge\n",
    "                    checkcharge=40*96*4\n",
    "                    cclist.append(checkcharge)\n",
    "                else:\n",
    "                    checkcharge+=rawdata.loc[i,'Charge']\n",
    "                    cclist.append(checkcharge)\n",
    "            elif rawdata.loc[i,'Discharge'] != 0:\n",
    "                if checkcharge-rawdata.loc[i,'Discharge']<=0:\n",
    "                    rawdata.loc[i,'Discharge']=checkcharge\n",
    "                    checkcharge=0\n",
    "                    cclist.append(checkcharge)\n",
    "                else:    \n",
    "                    checkcharge = checkcharge - rawdata.loc[i,'Discharge']\n",
    "                    cclist.append(checkcharge)\n",
    "            else:\n",
    "                cclist.append(checkcharge)\n",
    "        else:\n",
    "            cclist.append(checkcharge)\n",
    "    rawdata['Batt_above60%']=cclist\n",
    "    newpercent_batt=percent_batt+(rawdata.Charge.sum()-rawdata.Discharge.sum())/4/96\n",
    "    return [rawdata,newpercent_batt]"
   ]
  },
  {
   "cell_type": "markdown",
   "metadata": {},
   "source": [
    "## Create Predict_generation function name predictgen"
   ]
  },
  {
   "cell_type": "code",
   "execution_count": 8,
   "metadata": {},
   "outputs": [],
   "source": [
    "def createDayDataframe(filename):\n",
    "    path = \"tongsdata/\"\n",
    "    filedate = filename.split(\".\")[0].split(\"-\")\n",
    "\n",
    "    with open(path + filename, 'r', encoding='utf-8') as fin:\n",
    "        data_json = json.loads(fin.read())\n",
    "\n",
    "    #  Create X DataFrame\n",
    "    todayData = {time: data_json[time]['currently'] for time in data_json}\n",
    "    todayData_DF = pd.DataFrame(todayData).T\n",
    "\n",
    "    #  Create y DataFrame\n",
    "    energyBalanceFilename = \"energyBalance/Energy_Balance_{}_{}_{}.csv\".format(filedate[0], filedate[1], filedate[2]) #change due to json filename\n",
    "    energyBalance = pd.read_csv(path + energyBalanceFilename, delimiter=\";\")\n",
    "\n",
    "    energyBalance_DF = pd.DataFrame(index=energyBalance.iloc[:-1,0].apply(lambda x: x[2:-1]))\n",
    "    energyBalance_DF['PV Power Generation'] = energyBalance['PV power generation / Mean values [W]  '].values[:-1]\n",
    "    energyBalance_DF = energyBalance_DF[energyBalance_DF != ' ']\n",
    "    energyBalance_DF = energyBalance_DF.dropna()\n",
    "\n",
    "    #  Join X y DataFrame\n",
    "    data = todayData_DF.join(energyBalance_DF)\n",
    "    return data\n",
    "\n",
    "def cleanDataframe(masterDF):\n",
    "    masterData_cleaned = masterDF.reset_index()\n",
    "    masterData_cleaned = masterData_cleaned.rename(columns={'index': 'time_of_day'})\n",
    "    masterData_cleaned = masterData_cleaned[masterData_cleaned['PV Power Generation'].notna()]\n",
    "    masterData_cleaned['month'] = masterData_cleaned['time'].apply(datetime.datetime.fromtimestamp).apply(lambda x: x.month)\n",
    "    #masterData_cleaned['cloudCover'] = masterData_cleaned['cloudCover'].fillna(value=masterData_cleaned['cloudCover'].mean())\n",
    "    masterData_cleaned['PV Power Generation'] = masterData_cleaned['PV Power Generation'].apply(lambda x: x.replace(\",\", \"\")).astype('float')\n",
    "    return masterData_cleaned\n",
    "\n",
    "def featureEngineering(masterDF):\n",
    "    masterDF = masterDF.drop(columns=['icon', 'summary', 'time', 'windBearing', 'windGust', 'ozone', 'precipIntensity', 'precipProbability','pressure','cloudCover'])\n",
    "    masterDF = pd.get_dummies(masterDF, columns=['time_of_day', 'precipType', 'uvIndex', 'month']) \n",
    "    return masterDF\n",
    "\n",
    "    "
   ]
  },
  {
   "cell_type": "code",
   "execution_count": 9,
   "metadata": {},
   "outputs": [],
   "source": [
    "def pvpredict(predict_date) :\n",
    "    path = \"tongsdata/\"\n",
    "    filename =     predict_date.replace(\"_\",'-') + '.json'\n",
    "    \n",
    "    with open(path + filename, 'r', encoding='utf-8') as fin:\n",
    "        data_json = json.loads(fin.read())\n",
    "    \n",
    "    todayData = {time: data_json[time]['currently'] for time in data_json}\n",
    "    todayData_DF = pd.DataFrame(todayData).T\n",
    "    todayData_DF.index.names=['time_of_day']\n",
    "    todayData_DF = todayData_DF.loc['06:30':'18:00']\n",
    "    todayData_DF = todayData_DF.reset_index()\n",
    "    todayData_DF['month'] = todayData_DF['time'].apply(datetime.datetime.fromtimestamp).apply(lambda x: x.month)\n",
    "    #todayData_DF['cloudCover'] = todayData_DF['cloudCover'].fillna(value=todayData_DF['cloudCover'].mean())\n",
    "    dropcolumns=['icon', 'summary', 'time', 'windBearing', 'windGust', 'ozone', 'precipIntensity', 'precipProbability','pressure','cloudCover']\n",
    "    for i in dropcolumns:\n",
    "        if i in todayData_DF.columns:\n",
    "            todayData_DF = todayData_DF.drop(columns=[i])\n",
    "    todayData_DF = pd.get_dummies(todayData_DF, columns=['time_of_day', 'precipType', 'uvIndex', 'month'])\n",
    "    \n",
    "    masterData_for_predict = masterData.drop(columns=['PV Power Generation'])\n",
    "    for i in range(len(masterData_for_predict.columns)) : #drop power balance\n",
    "        if masterData_for_predict.columns[i] not in todayData_DF.columns:\n",
    "            todayData_DF.insert(i, masterData.columns[i+1], 0)\n",
    "    missingvalue = todayData_DF[todayData_DF.isna().any(axis=1)].index\n",
    "    import math\n",
    "    for i in missingvalue:\n",
    "        for j in todayData_DF.columns:\n",
    "            if   i == 0:    #add for index error case                                         \n",
    "                    todayData_DF.loc[i,j] = (todayData_DF.loc[i+1,j])\n",
    "            elif i+1 > len(todayData_DF.index)-1:               \n",
    "                    todayData_DF.loc[i,j] = (todayData_DF.loc[i-1,j])\n",
    "            elif math.isnan(todayData_DF.loc[i,j]) :\n",
    "                todayData_DF.loc[i,j] = (todayData_DF.loc[i-1,j]+todayData_DF.loc[i+1,j])/2\n",
    "    first_predict = todayData_DF.astype('float').values\n",
    "    \n",
    "    results_first_predict = exported_pipeline.predict(first_predict)\n",
    "    results_first_predict = np.array(results_first_predict).tolist()\n",
    "    for i in range(25):\n",
    "        results_first_predict.insert(0,0.0)\n",
    "    for j in range (24):\n",
    "        results_first_predict.append(0.0)\n",
    "    return results_first_predict"
   ]
  },
  {
   "cell_type": "markdown",
   "metadata": {},
   "source": [
    "### รันแค่ครั้งเดียวเพื่อ fit model"
   ]
  },
  {
   "cell_type": "code",
   "execution_count": 10,
   "metadata": {},
   "outputs": [
    {
     "name": "stderr",
     "output_type": "stream",
     "text": [
      "C:\\Users\\User\\Anaconda3\\lib\\site-packages\\ipykernel_launcher.py:16: FutureWarning: Sorting because non-concatenation axis is not aligned. A future version\n",
      "of pandas will change to not sort by default.\n",
      "\n",
      "To accept the future behavior, pass 'sort=False'.\n",
      "\n",
      "To retain the current behavior and silence the warning, pass 'sort=True'.\n",
      "\n",
      "  app.launch_new_instance()\n"
     ]
    }
   ],
   "source": [
    "import os\n",
    "import pandas as pd\n",
    "import json\n",
    "import datetime\n",
    "\n",
    "files = os.listdir(\"tongsdata/\")\n",
    "\n",
    "#files.remove(\".DS_Store\")\n",
    "files.remove(\"energyBalance\")\n",
    "\n",
    "masterData = pd.DataFrame()\n",
    "\n",
    "for file in files:\n",
    "    r = createDayDataframe(file).loc['06:30':'18:00']\n",
    "    #print(file, r.shape)\n",
    "    masterData = pd.concat([masterData, r], axis=0)\n",
    "\n",
    "masterData = cleanDataframe(masterData)\n",
    "masterData = featureEngineering(masterData)\n",
    "\n",
    "features = list(masterData.drop(columns=['PV Power Generation']).columns)\n",
    "\n",
    "masterData = masterData.dropna()\n",
    "\n",
    "X = masterData.drop(columns=['PV Power Generation']).astype('float').values\n",
    "y = masterData['PV Power Generation'].astype('float').values\n",
    "\n",
    "\n",
    "from sklearn.model_selection import train_test_split\n",
    "\n",
    "X_train, X_test, y_train, y_test = train_test_split(X, y)\n",
    "\n",
    "import numpy as np\n",
    "import pandas as pd\n",
    "from sklearn.ensemble import RandomForestRegressor\n",
    "from sklearn.model_selection import train_test_split\n",
    "\n",
    "training_features, testing_features, training_target, testing_target = train_test_split(X, y)\n",
    "\n",
    "# Average CV score on the training set was:-91867.4890210794\n",
    "exported_pipeline = RandomForestRegressor(bootstrap=False, max_features=0.3, min_samples_leaf=1, min_samples_split=7, n_estimators=100)\n",
    "\n",
    "exported_pipeline.fit(training_features, training_target)\n",
    "results = exported_pipeline.predict(testing_features)\n",
    "\n",
    "#from sklearn.metrics import mean_squared_error, r2_score ,mean_absolute_error\n",
    "#print(mean_squared_error(testing_target, results), \n",
    "#mean_absolute_error(testing_target, results), \n",
    "#r2_score(testing_target, results))"
   ]
  },
  {
   "cell_type": "code",
   "execution_count": 17,
   "metadata": {
    "collapsed": true
   },
   "outputs": [
    {
     "data": {
      "text/plain": [
       "['2018_11_01',\n",
       " '2018_11_02',\n",
       " '2018_11_03',\n",
       " '2018_11_04',\n",
       " '2018_11_05',\n",
       " '2018_11_06',\n",
       " '2018_11_07',\n",
       " '2018_11_08',\n",
       " '2018_11_09',\n",
       " '2018_11_10',\n",
       " '2018_11_11',\n",
       " '2018_11_12',\n",
       " '2018_11_13',\n",
       " '2018_11_14',\n",
       " '2018_11_15',\n",
       " '2018_11_16',\n",
       " '2018_11_17',\n",
       " '2018_11_18',\n",
       " '2018_11_19',\n",
       " '2018_11_20',\n",
       " '2018_11_21',\n",
       " '2018_11_22',\n",
       " '2018_11_23',\n",
       " '2018_11_24',\n",
       " '2018_11_25',\n",
       " '2018_11_26',\n",
       " '2018_11_27',\n",
       " '2018_11_28',\n",
       " '2018_11_29',\n",
       " '2018_11_30']"
      ]
     },
     "execution_count": 17,
     "metadata": {},
     "output_type": "execute_result"
    }
   ],
   "source": [
    "datelist=[]\n",
    "for i in range(1,31):\n",
    "    datelist.append('2018_11_'+str(i).zfill(2))\n",
    "datelist    "
   ]
  },
  {
   "cell_type": "code",
   "execution_count": 18,
   "metadata": {},
   "outputs": [],
   "source": [
    "genlist=[]\n",
    "for i in datelist:\n",
    "    genlist.append(pvpredict(i))"
   ]
  },
  {
   "cell_type": "markdown",
   "metadata": {},
   "source": [
    "## PULL data consumption in list (total member = 30*96) name preconsumption"
   ]
  },
  {
   "cell_type": "code",
   "execution_count": null,
   "metadata": {},
   "outputs": [],
   "source": [
    "fit4 = ExponentialSmoothing(preconsumption, seasonal_periods=96, trend='add' ,seasonal='mul').fit()\n",
    "\n",
    "fit4.fittedvalues.plot(style='--', color='red')\n",
    "\n",
    "forecast=fit4.forecast(96)\n",
    "\n",
    "params=fit4.model.params\n",
    "consumption=[]\n",
    "for i in forecast:\n",
    "    consumption.append(i)"
   ]
  },
  {
   "cell_type": "markdown",
   "metadata": {},
   "source": [
    "## Create function predictcon"
   ]
  },
  {
   "cell_type": "code",
   "execution_count": null,
   "metadata": {},
   "outputs": [],
   "source": [
    "def createDF(predict_date,Consumption,Generation):\n",
    "    predictday=predict_date[0:4]+predict_date[5:7]+predict_date[8:10]\n",
    "    minu=[]\n",
    "    h=[]\n",
    "    m=[]\n",
    "    index=[]\n",
    "    Time=[]\n",
    "    for i in range(1,96):\n",
    "        minu.append(str((i%4)*15).zfill(2))\n",
    "        h.append(str(i//4).zfill(2))\n",
    "    for i in range(1,96):\n",
    "        index.append(predictday+h[i-1]+minu[i-1])\n",
    "    for i in index:\n",
    "        Time.append(pd.to_datetime(i))\n",
    "    Time.append(pd.to_datetime(predictday+'0000'))\n",
    "    len(Time)\n",
    "    DF = pd.DataFrame()\n",
    "    DF['Consumption']=Consumption\n",
    "    DF['Time']=Time\n",
    "    DF.set_index('Time',inplace=True)\n",
    "    DF['Generation']=Generation\n",
    "    return DF"
   ]
  },
  {
   "cell_type": "code",
   "execution_count": null,
   "metadata": {},
   "outputs": [],
   "source": [
    "led = LED(17)"
   ]
  },
  {
   "cell_type": "markdown",
   "metadata": {},
   "source": [
    "## initial_predict_date must be in the future"
   ]
  },
  {
   "cell_type": "code",
   "execution_count": 28,
   "metadata": {},
   "outputs": [],
   "source": [
    "initial_predict_date='2019-03-20'"
   ]
  },
  {
   "cell_type": "code",
   "execution_count": 30,
   "metadata": {},
   "outputs": [],
   "source": [
    "start=0\n",
    "while start==0:\n",
    "    if pd.datetime.now()>=pd.to_datetime(initial_predict_date+' 00:00:00'):\n",
    "        start=1\n",
    "        predict_date=initial_predict_date\n",
    "    \n",
    "    "
   ]
  },
  {
   "cell_type": "markdown",
   "metadata": {},
   "source": [
    "## PULL PERCENT BATT"
   ]
  },
  {
   "cell_type": "code",
   "execution_count": 43,
   "metadata": {
    "collapsed": true
   },
   "outputs": [
    {
     "ename": "NameError",
     "evalue": "name 'predictcon' is not defined",
     "output_type": "error",
     "traceback": [
      "\u001b[1;31m---------------------------------------------------------------------------\u001b[0m",
      "\u001b[1;31mNameError\u001b[0m                                 Traceback (most recent call last)",
      "\u001b[1;32m<ipython-input-43-b94894d0fa72>\u001b[0m in \u001b[0;36m<module>\u001b[1;34m\u001b[0m\n\u001b[0;32m      3\u001b[0m \u001b[1;32mwhile\u001b[0m \u001b[0mstop\u001b[0m\u001b[1;33m==\u001b[0m\u001b[1;36m0\u001b[0m\u001b[1;33m:\u001b[0m\u001b[1;33m\u001b[0m\u001b[1;33m\u001b[0m\u001b[0m\n\u001b[0;32m      4\u001b[0m     \u001b[0mpredict_date\u001b[0m\u001b[1;33m=\u001b[0m\u001b[0mstr\u001b[0m\u001b[1;33m(\u001b[0m\u001b[0mpd\u001b[0m\u001b[1;33m.\u001b[0m\u001b[0mdatetime\u001b[0m\u001b[1;33m.\u001b[0m\u001b[0mnow\u001b[0m\u001b[1;33m(\u001b[0m\u001b[1;33m)\u001b[0m\u001b[1;33m.\u001b[0m\u001b[0mdate\u001b[0m\u001b[1;33m(\u001b[0m\u001b[1;33m)\u001b[0m\u001b[1;33m)\u001b[0m\u001b[1;33m\u001b[0m\u001b[1;33m\u001b[0m\u001b[0m\n\u001b[1;32m----> 5\u001b[1;33m     \u001b[0mconsumption\u001b[0m\u001b[1;33m=\u001b[0m\u001b[0mpredictcon\u001b[0m\u001b[1;33m(\u001b[0m\u001b[0mpredict_date\u001b[0m\u001b[1;33m)\u001b[0m\u001b[1;33m\u001b[0m\u001b[1;33m\u001b[0m\u001b[0m\n\u001b[0m\u001b[0;32m      6\u001b[0m     \u001b[0mgeneration\u001b[0m\u001b[1;33m=\u001b[0m\u001b[0mpredictgen\u001b[0m\u001b[1;33m(\u001b[0m\u001b[0mpredict_date\u001b[0m\u001b[1;33m)\u001b[0m\u001b[1;33m\u001b[0m\u001b[1;33m\u001b[0m\u001b[0m\n\u001b[0;32m      7\u001b[0m     \u001b[0mdata\u001b[0m\u001b[1;33m=\u001b[0m\u001b[0mcreateDF\u001b[0m\u001b[1;33m(\u001b[0m\u001b[0mpredict_date\u001b[0m\u001b[1;33m,\u001b[0m\u001b[0mconsumption\u001b[0m\u001b[1;33m,\u001b[0m\u001b[0mgeneration\u001b[0m\u001b[1;33m)\u001b[0m\u001b[1;33m\u001b[0m\u001b[1;33m\u001b[0m\u001b[0m\n",
      "\u001b[1;31mNameError\u001b[0m: name 'predictcon' is not defined"
     ]
    }
   ],
   "source": [
    "stop=0\n",
    "contactor=[]\n",
    "while stop==0:\n",
    "    predict_date=str(pd.datetime.now().date())\n",
    "    consumption=predictcon(predict_date)\n",
    "    generation=predictgen(predict_date)\n",
    "    data=createDF(predict_date,consumption,generation)\n",
    "    # PULL PERCENT BATT in variable percent_batt\n",
    "    dutycycleinfo=dutycyclemode(data,percent_batt)[0]\n",
    "    data=dutycycleinfo[0]\n",
    "    # WRITE DATA TO mySQL\n",
    "    for i in data.index:\n",
    "        while pd.datetime.now()<i:\n",
    "            if data.loc(i,'Contactor')==1:\n",
    "                led.on()\n",
    "            else:\n",
    "                led.off()\n",
    "    "
   ]
  }
 ],
 "metadata": {
  "kernelspec": {
   "display_name": "Python 3",
   "language": "python",
   "name": "python3"
  },
  "language_info": {
   "codemirror_mode": {
    "name": "ipython",
    "version": 3
   },
   "file_extension": ".py",
   "mimetype": "text/x-python",
   "name": "python",
   "nbconvert_exporter": "python",
   "pygments_lexer": "ipython3",
   "version": "3.7.1"
  }
 },
 "nbformat": 4,
 "nbformat_minor": 2
}
