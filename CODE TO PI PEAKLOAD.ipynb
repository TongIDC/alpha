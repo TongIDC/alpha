{
 "cells": [
  {
   "cell_type": "code",
   "execution_count": 2,
   "metadata": {},
   "outputs": [],
   "source": [
    "import pandas as pd\n",
    "import numpy as np\n",
    "import matplotlib.pyplot as plt\n",
    "%matplotlib inline\n",
    "%config InlineBackend.figure_format='retina'"
   ]
  },
  {
   "cell_type": "code",
   "execution_count": null,
   "metadata": {},
   "outputs": [],
   "source": [
    "from gpiozero import LED"
   ]
  },
  {
   "cell_type": "code",
   "execution_count": 14,
   "metadata": {},
   "outputs": [],
   "source": [
    "import time"
   ]
  },
  {
   "cell_type": "code",
   "execution_count": 3,
   "metadata": {},
   "outputs": [],
   "source": [
    "from statsmodels.tsa.api import ExponentialSmoothing, SimpleExpSmoothing, Holt"
   ]
  },
  {
   "cell_type": "code",
   "execution_count": 4,
   "metadata": {},
   "outputs": [],
   "source": [
    "def peakloadmode(rawdata,percent_batt):\n",
    "    batt=percent_batt*96\n",
    "    Consumption_afterPV=[]\n",
    "    Charge=[]\n",
    "    for i in rawdata.index:\n",
    "        if rawdata.loc[i,'Generation']>=rawdata.loc[i,'Consumption']:\n",
    "            Charge.append(rawdata.loc[i,'Generation']-rawdata.loc[i,'Consumption'])\n",
    "            Consumption_afterPV.append(0)\n",
    "        else:\n",
    "            Charge.append(0)\n",
    "            Consumption_afterPV.append(rawdata.loc[i,'Consumption']-rawdata.loc[i,'Generation'])    \n",
    "\n",
    "    rawdata['Charge']=Charge\n",
    "    rawdata['Consumption_afterPV']=Consumption_afterPV\n",
    "\n",
    "    totalcharge=rawdata['Charge'].sum()\n",
    "\n",
    "    data=rawdata\n",
    "\n",
    "    peakloadtotal=0\n",
    "\n",
    "    for i in range(1,96):\n",
    "        peakloaddf=data.nlargest(i,columns='Consumption_afterPV').Consumption_afterPV\n",
    "        #print(peakloaddf)\n",
    "        peakload=peakloaddf.iloc[i-1:i]\n",
    "        peakloadtotal += peakload.iloc[0]\n",
    "       # print(peakload)\n",
    "        #print(peakloadtotal)\n",
    "        if peakloadtotal>=totalcharge:\n",
    "            remain=(peakloadtotal-totalcharge)\n",
    "            #print(remain)\n",
    "            for j in peakloaddf.index:\n",
    "                data.loc[j:j,'Consumption_afterPV']=0\n",
    "            data.loc[peakload.index,'Consumption_afterPV']=remain\n",
    "            break\n",
    "\n",
    "    data['Discharge']=data.Consumption_afterPV*0\n",
    "    for i in peakloaddf.index:\n",
    "        data.loc[i:i,'Discharge']=data.loc[i:i,'Consumption']-data.loc[i:i,'Generation']-data.loc[i:i,'Consumption_afterPV']\n",
    "\n",
    "    Contactor=[]\n",
    "    for i in data.index:\n",
    "        if data.loc[i,'Charge']>0:\n",
    "            Contactor.append(1)\n",
    "        elif data.loc[i,'Discharge']>0:\n",
    "            Contactor.append(1)\n",
    "        else:\n",
    "            Contactor.append(0)\n",
    "    data['Contactor']=Contactor\n",
    "    data.rename(columns={'Consumption_afterPV':'Consumption_afterDischarge'},inplace=True)\n",
    "    data['Consumption_afterPV']=data['Consumption_afterDischarge']+data['Discharge']\n",
    "    return data"
   ]
  },
  {
   "cell_type": "markdown",
   "metadata": {},
   "source": [
    "## Create Predict_generation function name predictgen"
   ]
  },
  {
   "cell_type": "markdown",
   "metadata": {},
   "source": [
    "## PULL data consumption in list (total member = 30*96) name preconsumption"
   ]
  },
  {
   "cell_type": "code",
   "execution_count": null,
   "metadata": {},
   "outputs": [],
   "source": [
    "fit4 = ExponentialSmoothing(preconsumption, seasonal_periods=96, trend='add' ,seasonal='mul').fit()\n",
    "\n",
    "fit4.fittedvalues.plot(style='--', color='red')\n",
    "\n",
    "forecast=fit4.forecast(96)\n",
    "\n",
    "params=fit4.model.params\n",
    "consumption=[]\n",
    "for i in forecast:\n",
    "    consumption.append(i)"
   ]
  },
  {
   "cell_type": "markdown",
   "metadata": {},
   "source": [
    "## Create function predictcon"
   ]
  },
  {
   "cell_type": "code",
   "execution_count": null,
   "metadata": {},
   "outputs": [],
   "source": [
    "def createDF(predict_date,Consumption,Generation):\n",
    "    predictday=predict_date[0:4]+predict_date[5:7]+predict_date[8:10]\n",
    "    minu=[]\n",
    "    h=[]\n",
    "    m=[]\n",
    "    index=[]\n",
    "    Time=[]\n",
    "    for i in range(1,96):\n",
    "        minu.append(str((i%4)*15).zfill(2))\n",
    "        h.append(str(i//4).zfill(2))\n",
    "    for i in range(1,96):\n",
    "        index.append(predictday+h[i-1]+minu[i-1])\n",
    "    for i in index:\n",
    "        Time.append(pd.to_datetime(i))\n",
    "    Time.append(pd.to_datetime(predictday+'0000'))\n",
    "    len(Time)\n",
    "    DF = pd.DataFrame()\n",
    "    DF['Consumption']=Consumption\n",
    "    DF['Time']=Time\n",
    "    DF.set_index('Time',inplace=True)\n",
    "    DF['Generation']=Generation\n",
    "    return DF"
   ]
  },
  {
   "cell_type": "code",
   "execution_count": null,
   "metadata": {},
   "outputs": [],
   "source": [
    "led = LED(17)"
   ]
  },
  {
   "cell_type": "markdown",
   "metadata": {},
   "source": [
    "## initial_predict_date must be in the future"
   ]
  },
  {
   "cell_type": "code",
   "execution_count": 28,
   "metadata": {},
   "outputs": [],
   "source": [
    "initial_predict_date='2019-03-20'"
   ]
  },
  {
   "cell_type": "code",
   "execution_count": 30,
   "metadata": {},
   "outputs": [],
   "source": [
    "start=0\n",
    "while start==0:\n",
    "    if pd.datetime.now()>=pd.to_datetime(initial_predict_date+' 00:00:00'):\n",
    "        start=1\n",
    "        predict_date=initial_predict_date\n",
    "    \n",
    "    "
   ]
  },
  {
   "cell_type": "markdown",
   "metadata": {},
   "source": [
    "## PULL PERCENT BATT"
   ]
  },
  {
   "cell_type": "code",
   "execution_count": 43,
   "metadata": {
    "collapsed": true
   },
   "outputs": [
    {
     "ename": "NameError",
     "evalue": "name 'predictcon' is not defined",
     "output_type": "error",
     "traceback": [
      "\u001b[1;31m---------------------------------------------------------------------------\u001b[0m",
      "\u001b[1;31mNameError\u001b[0m                                 Traceback (most recent call last)",
      "\u001b[1;32m<ipython-input-43-b94894d0fa72>\u001b[0m in \u001b[0;36m<module>\u001b[1;34m\u001b[0m\n\u001b[0;32m      3\u001b[0m \u001b[1;32mwhile\u001b[0m \u001b[0mstop\u001b[0m\u001b[1;33m==\u001b[0m\u001b[1;36m0\u001b[0m\u001b[1;33m:\u001b[0m\u001b[1;33m\u001b[0m\u001b[1;33m\u001b[0m\u001b[0m\n\u001b[0;32m      4\u001b[0m     \u001b[0mpredict_date\u001b[0m\u001b[1;33m=\u001b[0m\u001b[0mstr\u001b[0m\u001b[1;33m(\u001b[0m\u001b[0mpd\u001b[0m\u001b[1;33m.\u001b[0m\u001b[0mdatetime\u001b[0m\u001b[1;33m.\u001b[0m\u001b[0mnow\u001b[0m\u001b[1;33m(\u001b[0m\u001b[1;33m)\u001b[0m\u001b[1;33m.\u001b[0m\u001b[0mdate\u001b[0m\u001b[1;33m(\u001b[0m\u001b[1;33m)\u001b[0m\u001b[1;33m)\u001b[0m\u001b[1;33m\u001b[0m\u001b[1;33m\u001b[0m\u001b[0m\n\u001b[1;32m----> 5\u001b[1;33m     \u001b[0mconsumption\u001b[0m\u001b[1;33m=\u001b[0m\u001b[0mpredictcon\u001b[0m\u001b[1;33m(\u001b[0m\u001b[0mpredict_date\u001b[0m\u001b[1;33m)\u001b[0m\u001b[1;33m\u001b[0m\u001b[1;33m\u001b[0m\u001b[0m\n\u001b[0m\u001b[0;32m      6\u001b[0m     \u001b[0mgeneration\u001b[0m\u001b[1;33m=\u001b[0m\u001b[0mpredictgen\u001b[0m\u001b[1;33m(\u001b[0m\u001b[0mpredict_date\u001b[0m\u001b[1;33m)\u001b[0m\u001b[1;33m\u001b[0m\u001b[1;33m\u001b[0m\u001b[0m\n\u001b[0;32m      7\u001b[0m     \u001b[0mdata\u001b[0m\u001b[1;33m=\u001b[0m\u001b[0mcreateDF\u001b[0m\u001b[1;33m(\u001b[0m\u001b[0mpredict_date\u001b[0m\u001b[1;33m,\u001b[0m\u001b[0mconsumption\u001b[0m\u001b[1;33m,\u001b[0m\u001b[0mgeneration\u001b[0m\u001b[1;33m)\u001b[0m\u001b[1;33m\u001b[0m\u001b[1;33m\u001b[0m\u001b[0m\n",
      "\u001b[1;31mNameError\u001b[0m: name 'predictcon' is not defined"
     ]
    }
   ],
   "source": [
    "stop=0\n",
    "contactor=[]\n",
    "while stop==0:\n",
    "    predict_date=str(pd.datetime.now().date())\n",
    "    consumption=predictcon(predict_date)\n",
    "    generation=predictgen(predict_date)\n",
    "    data=createDF(predict_date,consumption,generation)\n",
    "    # PULL PERCENT BATT in variable percent_batt\n",
    "    data=peakloadmode(data,percent_batt)\n",
    "    for i in data.index:\n",
    "        while pd.datetime.now()<i:\n",
    "            if data.loc(i,'Contactor')==1:\n",
    "                led.on()\n",
    "            else:\n",
    "                led.off()\n",
    "    "
   ]
  },
  {
   "cell_type": "markdown",
   "metadata": {},
   "source": [
    "## TEST"
   ]
  }
 ],
 "metadata": {
  "kernelspec": {
   "display_name": "Python 3",
   "language": "python",
   "name": "python3"
  },
  "language_info": {
   "codemirror_mode": {
    "name": "ipython",
    "version": 3
   },
   "file_extension": ".py",
   "mimetype": "text/x-python",
   "name": "python",
   "nbconvert_exporter": "python",
   "pygments_lexer": "ipython3",
   "version": "3.7.1"
  }
 },
 "nbformat": 4,
 "nbformat_minor": 2
}
